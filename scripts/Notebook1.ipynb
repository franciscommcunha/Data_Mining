{
 "cells": [
  {
   "cell_type": "markdown",
   "metadata": {},
   "source": [
    "# Data Mining - Notebook 1\n",
    "### Francisco Cunha, 76759\n",
    "### João Amaral, 76460"
   ]
  },
  {
   "cell_type": "markdown",
   "metadata": {},
   "source": [
    "# Task A: Pre-Processing"
   ]
  },
  {
   "cell_type": "markdown",
   "metadata": {},
   "source": [
    "- [CSV's File Reading](#CSV's-File-Reading)\n",
    "- [Mapping categorial data into numeric data (Car data set)](#Mapping-categorial-data-into-numeric-data-(Car-data-set))\n",
    "- [Rank features](#Rank-features)\n",
    "  - [Categorical data set (Car)](#Categorical-data-set-(Car))\n",
    "  - [Numerical data set (White wine)](#Numerical-data-set-(White-wine))\n",
    "- [Dimension reduction](#Dimension-reduction)\n",
    "  - [Principal Component Analysis](#Principal-Component-Analysis)\n",
    "    - [Prepare the data for a classification task](#Prepare-the-data-for-a-classification-task)\n",
    "    - [Normalize Features](#Normalize-Features)\n",
    "    - [Perform PCA (Car)](#Perform-PCA-(Car))\n",
    "    - [Perform PCA (White wine)](#Perform-PCA-(White-wine))\n",
    "    - [Dimension Reduction before classification](#Dimension-Reduction-before-classification)\n",
    "  - [Kernel Principal Components](#Kernel-Principal-Components)"
   ]
  },
  {
   "cell_type": "markdown",
   "metadata": {},
   "source": [
    "# Task B: Predictive Model"
   ]
  },
  {
   "cell_type": "markdown",
   "metadata": {},
   "source": [
    "## CSV's File Reading"
   ]
  },
  {
   "cell_type": "code",
   "execution_count": 1,
   "metadata": {},
   "outputs": [
    {
     "data": {
      "text/html": [
       "<div>\n",
       "<style scoped>\n",
       "    .dataframe tbody tr th:only-of-type {\n",
       "        vertical-align: middle;\n",
       "    }\n",
       "\n",
       "    .dataframe tbody tr th {\n",
       "        vertical-align: top;\n",
       "    }\n",
       "\n",
       "    .dataframe thead th {\n",
       "        text-align: right;\n",
       "    }\n",
       "</style>\n",
       "<table border=\"1\" class=\"dataframe\">\n",
       "  <thead>\n",
       "    <tr style=\"text-align: right;\">\n",
       "      <th></th>\n",
       "      <th>buying</th>\n",
       "      <th>maint</th>\n",
       "      <th>doors</th>\n",
       "      <th>persons</th>\n",
       "      <th>lug_boot</th>\n",
       "      <th>safety</th>\n",
       "      <th>class values</th>\n",
       "    </tr>\n",
       "  </thead>\n",
       "  <tbody>\n",
       "    <tr>\n",
       "      <th>0</th>\n",
       "      <td>vhigh</td>\n",
       "      <td>vhigh</td>\n",
       "      <td>2</td>\n",
       "      <td>2</td>\n",
       "      <td>small</td>\n",
       "      <td>low</td>\n",
       "      <td>unacc</td>\n",
       "    </tr>\n",
       "    <tr>\n",
       "      <th>1</th>\n",
       "      <td>vhigh</td>\n",
       "      <td>vhigh</td>\n",
       "      <td>2</td>\n",
       "      <td>2</td>\n",
       "      <td>small</td>\n",
       "      <td>med</td>\n",
       "      <td>unacc</td>\n",
       "    </tr>\n",
       "    <tr>\n",
       "      <th>2</th>\n",
       "      <td>vhigh</td>\n",
       "      <td>vhigh</td>\n",
       "      <td>2</td>\n",
       "      <td>2</td>\n",
       "      <td>small</td>\n",
       "      <td>high</td>\n",
       "      <td>unacc</td>\n",
       "    </tr>\n",
       "    <tr>\n",
       "      <th>3</th>\n",
       "      <td>vhigh</td>\n",
       "      <td>vhigh</td>\n",
       "      <td>2</td>\n",
       "      <td>2</td>\n",
       "      <td>med</td>\n",
       "      <td>low</td>\n",
       "      <td>unacc</td>\n",
       "    </tr>\n",
       "    <tr>\n",
       "      <th>4</th>\n",
       "      <td>vhigh</td>\n",
       "      <td>vhigh</td>\n",
       "      <td>2</td>\n",
       "      <td>2</td>\n",
       "      <td>med</td>\n",
       "      <td>med</td>\n",
       "      <td>unacc</td>\n",
       "    </tr>\n",
       "  </tbody>\n",
       "</table>\n",
       "</div>"
      ],
      "text/plain": [
       "  buying  maint doors persons lug_boot safety class values\n",
       "0  vhigh  vhigh     2       2    small    low        unacc\n",
       "1  vhigh  vhigh     2       2    small    med        unacc\n",
       "2  vhigh  vhigh     2       2    small   high        unacc\n",
       "3  vhigh  vhigh     2       2      med    low        unacc\n",
       "4  vhigh  vhigh     2       2      med    med        unacc"
      ]
     },
     "execution_count": 1,
     "metadata": {},
     "output_type": "execute_result"
    }
   ],
   "source": [
    "import os\n",
    "import pandas as pd\n",
    "from pandas import DataFrame\n",
    "\n",
    "# gets current working directory\n",
    "cwd = os.getcwd()\n",
    "\n",
    "# splits cwd by Data_Mining/\n",
    "dm = cwd.split('Data_Mining/')\n",
    "\n",
    "# datasets path\n",
    "datasets_path = dm[0] + \"Data_Mining/Datasets/\"\n",
    "\n",
    "# Assign spreadsheet filename to 'car_path' and 'white_path'\n",
    "car_path = (datasets_path + \"car.csv\") # https://archive.ics.uci.edu/ml/datasets/Car+Evaluation\n",
    "white_path = (datasets_path + \"white_wine.csv\") # https://archive.ics.uci.edu/ml/datasets/Wine+Quality\n",
    "\n",
    "# Load CSV's\n",
    "dataset_car = pd.read_csv(car_path) # categorical data set\n",
    "dataset_white = pd.read_csv(white_path) # numerical data set\n",
    "dataset_car.head() # shows only the first 5 instances on the data set"
   ]
  },
  {
   "cell_type": "code",
   "execution_count": 2,
   "metadata": {},
   "outputs": [
    {
     "data": {
      "text/html": [
       "<div>\n",
       "<style scoped>\n",
       "    .dataframe tbody tr th:only-of-type {\n",
       "        vertical-align: middle;\n",
       "    }\n",
       "\n",
       "    .dataframe tbody tr th {\n",
       "        vertical-align: top;\n",
       "    }\n",
       "\n",
       "    .dataframe thead th {\n",
       "        text-align: right;\n",
       "    }\n",
       "</style>\n",
       "<table border=\"1\" class=\"dataframe\">\n",
       "  <thead>\n",
       "    <tr style=\"text-align: right;\">\n",
       "      <th></th>\n",
       "      <th>fixed acidity</th>\n",
       "      <th>volatile acidity</th>\n",
       "      <th>citric acid</th>\n",
       "      <th>residual sugar</th>\n",
       "      <th>chlorides</th>\n",
       "      <th>free sulfur dioxide</th>\n",
       "      <th>total sulfur dioxide</th>\n",
       "      <th>density</th>\n",
       "      <th>pH</th>\n",
       "      <th>sulphates</th>\n",
       "      <th>alcohol</th>\n",
       "      <th>quality</th>\n",
       "    </tr>\n",
       "  </thead>\n",
       "  <tbody>\n",
       "    <tr>\n",
       "      <th>0</th>\n",
       "      <td>7.0</td>\n",
       "      <td>0.27</td>\n",
       "      <td>0.36</td>\n",
       "      <td>20.7</td>\n",
       "      <td>0.045</td>\n",
       "      <td>45.0</td>\n",
       "      <td>170.0</td>\n",
       "      <td>1.0010</td>\n",
       "      <td>3.00</td>\n",
       "      <td>0.45</td>\n",
       "      <td>8.8</td>\n",
       "      <td>6</td>\n",
       "    </tr>\n",
       "    <tr>\n",
       "      <th>1</th>\n",
       "      <td>6.3</td>\n",
       "      <td>0.30</td>\n",
       "      <td>0.34</td>\n",
       "      <td>1.6</td>\n",
       "      <td>0.049</td>\n",
       "      <td>14.0</td>\n",
       "      <td>132.0</td>\n",
       "      <td>0.9940</td>\n",
       "      <td>3.30</td>\n",
       "      <td>0.49</td>\n",
       "      <td>9.5</td>\n",
       "      <td>6</td>\n",
       "    </tr>\n",
       "    <tr>\n",
       "      <th>2</th>\n",
       "      <td>8.1</td>\n",
       "      <td>0.28</td>\n",
       "      <td>0.40</td>\n",
       "      <td>6.9</td>\n",
       "      <td>0.050</td>\n",
       "      <td>30.0</td>\n",
       "      <td>97.0</td>\n",
       "      <td>0.9951</td>\n",
       "      <td>3.26</td>\n",
       "      <td>0.44</td>\n",
       "      <td>10.1</td>\n",
       "      <td>6</td>\n",
       "    </tr>\n",
       "    <tr>\n",
       "      <th>3</th>\n",
       "      <td>7.2</td>\n",
       "      <td>0.23</td>\n",
       "      <td>0.32</td>\n",
       "      <td>8.5</td>\n",
       "      <td>0.058</td>\n",
       "      <td>47.0</td>\n",
       "      <td>186.0</td>\n",
       "      <td>0.9956</td>\n",
       "      <td>3.19</td>\n",
       "      <td>0.40</td>\n",
       "      <td>9.9</td>\n",
       "      <td>6</td>\n",
       "    </tr>\n",
       "    <tr>\n",
       "      <th>4</th>\n",
       "      <td>7.2</td>\n",
       "      <td>0.23</td>\n",
       "      <td>0.32</td>\n",
       "      <td>8.5</td>\n",
       "      <td>0.058</td>\n",
       "      <td>47.0</td>\n",
       "      <td>186.0</td>\n",
       "      <td>0.9956</td>\n",
       "      <td>3.19</td>\n",
       "      <td>0.40</td>\n",
       "      <td>9.9</td>\n",
       "      <td>6</td>\n",
       "    </tr>\n",
       "  </tbody>\n",
       "</table>\n",
       "</div>"
      ],
      "text/plain": [
       "   fixed acidity  volatile acidity  citric acid  residual sugar  chlorides  \\\n",
       "0            7.0              0.27         0.36            20.7      0.045   \n",
       "1            6.3              0.30         0.34             1.6      0.049   \n",
       "2            8.1              0.28         0.40             6.9      0.050   \n",
       "3            7.2              0.23         0.32             8.5      0.058   \n",
       "4            7.2              0.23         0.32             8.5      0.058   \n",
       "\n",
       "   free sulfur dioxide  total sulfur dioxide  density    pH  sulphates  \\\n",
       "0                 45.0                 170.0   1.0010  3.00       0.45   \n",
       "1                 14.0                 132.0   0.9940  3.30       0.49   \n",
       "2                 30.0                  97.0   0.9951  3.26       0.44   \n",
       "3                 47.0                 186.0   0.9956  3.19       0.40   \n",
       "4                 47.0                 186.0   0.9956  3.19       0.40   \n",
       "\n",
       "   alcohol  quality  \n",
       "0      8.8        6  \n",
       "1      9.5        6  \n",
       "2     10.1        6  \n",
       "3      9.9        6  \n",
       "4      9.9        6  "
      ]
     },
     "execution_count": 2,
     "metadata": {},
     "output_type": "execute_result"
    }
   ],
   "source": [
    "dataset_white.head() # shows only the first 5 instances on the data set"
   ]
  },
  {
   "cell_type": "markdown",
   "metadata": {},
   "source": [
    "##  Mapping categorial data into numeric data (Car data set)"
   ]
  },
  {
   "cell_type": "code",
   "execution_count": 3,
   "metadata": {},
   "outputs": [
    {
     "data": {
      "text/html": [
       "<div>\n",
       "<style scoped>\n",
       "    .dataframe tbody tr th:only-of-type {\n",
       "        vertical-align: middle;\n",
       "    }\n",
       "\n",
       "    .dataframe tbody tr th {\n",
       "        vertical-align: top;\n",
       "    }\n",
       "\n",
       "    .dataframe thead th {\n",
       "        text-align: right;\n",
       "    }\n",
       "</style>\n",
       "<table border=\"1\" class=\"dataframe\">\n",
       "  <thead>\n",
       "    <tr style=\"text-align: right;\">\n",
       "      <th></th>\n",
       "      <th>class values_acc</th>\n",
       "      <th>class values_good</th>\n",
       "      <th>class values_unacc</th>\n",
       "      <th>class values_vgood</th>\n",
       "    </tr>\n",
       "  </thead>\n",
       "  <tbody>\n",
       "    <tr>\n",
       "      <th>0</th>\n",
       "      <td>0</td>\n",
       "      <td>0</td>\n",
       "      <td>1</td>\n",
       "      <td>0</td>\n",
       "    </tr>\n",
       "    <tr>\n",
       "      <th>1</th>\n",
       "      <td>0</td>\n",
       "      <td>0</td>\n",
       "      <td>1</td>\n",
       "      <td>0</td>\n",
       "    </tr>\n",
       "    <tr>\n",
       "      <th>2</th>\n",
       "      <td>0</td>\n",
       "      <td>0</td>\n",
       "      <td>1</td>\n",
       "      <td>0</td>\n",
       "    </tr>\n",
       "    <tr>\n",
       "      <th>3</th>\n",
       "      <td>0</td>\n",
       "      <td>0</td>\n",
       "      <td>1</td>\n",
       "      <td>0</td>\n",
       "    </tr>\n",
       "    <tr>\n",
       "      <th>4</th>\n",
       "      <td>0</td>\n",
       "      <td>0</td>\n",
       "      <td>1</td>\n",
       "      <td>0</td>\n",
       "    </tr>\n",
       "  </tbody>\n",
       "</table>\n",
       "</div>"
      ],
      "text/plain": [
       "   class values_acc  class values_good  class values_unacc  class values_vgood\n",
       "0                 0                  0                   1                   0\n",
       "1                 0                  0                   1                   0\n",
       "2                 0                  0                   1                   0\n",
       "3                 0                  0                   1                   0\n",
       "4                 0                  0                   1                   0"
      ]
     },
     "execution_count": 3,
     "metadata": {},
     "output_type": "execute_result"
    }
   ],
   "source": [
    "# https://stackoverflow.com/questions/32011359/convert-categorical-data-in-pandas-dataframe\n",
    "# http://fastml.com/converting-categorical-data-into-numbers-with-pandas-and-scikit-learn/\n",
    "\n",
    "# put all category columns into a list and converts to numerical values according 1st link\n",
    "# saves the columns name of dataset to a list\n",
    "#columns_list = df_car.dtypes.index\n",
    "# Converts dtype object to category\n",
    "#for i in range(len(columns_list)):\n",
    "    #df_car[columns_list[i]] = df_car[columns_list[i]].astype('category')\n",
    "\n",
    "#cat_columns = df_car.select_dtypes(['category']).columns\n",
    "#df_car[cat_columns] = df_car[cat_columns].apply(lambda x: x.cat.codes)\n",
    "\n",
    "# converts dtype category to binary according 2nd link\n",
    "Y_car = pd.get_dummies(dataset_car[['class values']])\n",
    "Y_car.head() # shows only the first 5 instances on the data set"
   ]
  },
  {
   "cell_type": "code",
   "execution_count": 4,
   "metadata": {},
   "outputs": [
    {
     "data": {
      "text/html": [
       "<div>\n",
       "<style scoped>\n",
       "    .dataframe tbody tr th:only-of-type {\n",
       "        vertical-align: middle;\n",
       "    }\n",
       "\n",
       "    .dataframe tbody tr th {\n",
       "        vertical-align: top;\n",
       "    }\n",
       "\n",
       "    .dataframe thead th {\n",
       "        text-align: right;\n",
       "    }\n",
       "</style>\n",
       "<table border=\"1\" class=\"dataframe\">\n",
       "  <thead>\n",
       "    <tr style=\"text-align: right;\">\n",
       "      <th></th>\n",
       "      <th>buying_high</th>\n",
       "      <th>buying_low</th>\n",
       "      <th>buying_med</th>\n",
       "      <th>buying_vhigh</th>\n",
       "      <th>maint_high</th>\n",
       "      <th>maint_low</th>\n",
       "      <th>maint_med</th>\n",
       "      <th>maint_vhigh</th>\n",
       "      <th>doors_2</th>\n",
       "      <th>doors_3</th>\n",
       "      <th>...</th>\n",
       "      <th>doors_5more</th>\n",
       "      <th>persons_2</th>\n",
       "      <th>persons_4</th>\n",
       "      <th>persons_more</th>\n",
       "      <th>lug_boot_big</th>\n",
       "      <th>lug_boot_med</th>\n",
       "      <th>lug_boot_small</th>\n",
       "      <th>safety_high</th>\n",
       "      <th>safety_low</th>\n",
       "      <th>safety_med</th>\n",
       "    </tr>\n",
       "  </thead>\n",
       "  <tbody>\n",
       "    <tr>\n",
       "      <th>0</th>\n",
       "      <td>0</td>\n",
       "      <td>0</td>\n",
       "      <td>0</td>\n",
       "      <td>1</td>\n",
       "      <td>0</td>\n",
       "      <td>0</td>\n",
       "      <td>0</td>\n",
       "      <td>1</td>\n",
       "      <td>1</td>\n",
       "      <td>0</td>\n",
       "      <td>...</td>\n",
       "      <td>0</td>\n",
       "      <td>1</td>\n",
       "      <td>0</td>\n",
       "      <td>0</td>\n",
       "      <td>0</td>\n",
       "      <td>0</td>\n",
       "      <td>1</td>\n",
       "      <td>0</td>\n",
       "      <td>1</td>\n",
       "      <td>0</td>\n",
       "    </tr>\n",
       "    <tr>\n",
       "      <th>1</th>\n",
       "      <td>0</td>\n",
       "      <td>0</td>\n",
       "      <td>0</td>\n",
       "      <td>1</td>\n",
       "      <td>0</td>\n",
       "      <td>0</td>\n",
       "      <td>0</td>\n",
       "      <td>1</td>\n",
       "      <td>1</td>\n",
       "      <td>0</td>\n",
       "      <td>...</td>\n",
       "      <td>0</td>\n",
       "      <td>1</td>\n",
       "      <td>0</td>\n",
       "      <td>0</td>\n",
       "      <td>0</td>\n",
       "      <td>0</td>\n",
       "      <td>1</td>\n",
       "      <td>0</td>\n",
       "      <td>0</td>\n",
       "      <td>1</td>\n",
       "    </tr>\n",
       "    <tr>\n",
       "      <th>2</th>\n",
       "      <td>0</td>\n",
       "      <td>0</td>\n",
       "      <td>0</td>\n",
       "      <td>1</td>\n",
       "      <td>0</td>\n",
       "      <td>0</td>\n",
       "      <td>0</td>\n",
       "      <td>1</td>\n",
       "      <td>1</td>\n",
       "      <td>0</td>\n",
       "      <td>...</td>\n",
       "      <td>0</td>\n",
       "      <td>1</td>\n",
       "      <td>0</td>\n",
       "      <td>0</td>\n",
       "      <td>0</td>\n",
       "      <td>0</td>\n",
       "      <td>1</td>\n",
       "      <td>1</td>\n",
       "      <td>0</td>\n",
       "      <td>0</td>\n",
       "    </tr>\n",
       "    <tr>\n",
       "      <th>3</th>\n",
       "      <td>0</td>\n",
       "      <td>0</td>\n",
       "      <td>0</td>\n",
       "      <td>1</td>\n",
       "      <td>0</td>\n",
       "      <td>0</td>\n",
       "      <td>0</td>\n",
       "      <td>1</td>\n",
       "      <td>1</td>\n",
       "      <td>0</td>\n",
       "      <td>...</td>\n",
       "      <td>0</td>\n",
       "      <td>1</td>\n",
       "      <td>0</td>\n",
       "      <td>0</td>\n",
       "      <td>0</td>\n",
       "      <td>1</td>\n",
       "      <td>0</td>\n",
       "      <td>0</td>\n",
       "      <td>1</td>\n",
       "      <td>0</td>\n",
       "    </tr>\n",
       "    <tr>\n",
       "      <th>4</th>\n",
       "      <td>0</td>\n",
       "      <td>0</td>\n",
       "      <td>0</td>\n",
       "      <td>1</td>\n",
       "      <td>0</td>\n",
       "      <td>0</td>\n",
       "      <td>0</td>\n",
       "      <td>1</td>\n",
       "      <td>1</td>\n",
       "      <td>0</td>\n",
       "      <td>...</td>\n",
       "      <td>0</td>\n",
       "      <td>1</td>\n",
       "      <td>0</td>\n",
       "      <td>0</td>\n",
       "      <td>0</td>\n",
       "      <td>1</td>\n",
       "      <td>0</td>\n",
       "      <td>0</td>\n",
       "      <td>0</td>\n",
       "      <td>1</td>\n",
       "    </tr>\n",
       "  </tbody>\n",
       "</table>\n",
       "<p>5 rows × 21 columns</p>\n",
       "</div>"
      ],
      "text/plain": [
       "   buying_high  buying_low  buying_med  buying_vhigh  maint_high  maint_low  \\\n",
       "0            0           0           0             1           0          0   \n",
       "1            0           0           0             1           0          0   \n",
       "2            0           0           0             1           0          0   \n",
       "3            0           0           0             1           0          0   \n",
       "4            0           0           0             1           0          0   \n",
       "\n",
       "   maint_med  maint_vhigh  doors_2  doors_3     ...      doors_5more  \\\n",
       "0          0            1        1        0     ...                0   \n",
       "1          0            1        1        0     ...                0   \n",
       "2          0            1        1        0     ...                0   \n",
       "3          0            1        1        0     ...                0   \n",
       "4          0            1        1        0     ...                0   \n",
       "\n",
       "   persons_2  persons_4  persons_more  lug_boot_big  lug_boot_med  \\\n",
       "0          1          0             0             0             0   \n",
       "1          1          0             0             0             0   \n",
       "2          1          0             0             0             0   \n",
       "3          1          0             0             0             1   \n",
       "4          1          0             0             0             1   \n",
       "\n",
       "   lug_boot_small  safety_high  safety_low  safety_med  \n",
       "0               1            0           1           0  \n",
       "1               1            0           0           1  \n",
       "2               1            1           0           0  \n",
       "3               0            0           1           0  \n",
       "4               0            0           0           1  \n",
       "\n",
       "[5 rows x 21 columns]"
      ]
     },
     "execution_count": 4,
     "metadata": {},
     "output_type": "execute_result"
    }
   ],
   "source": [
    "X_car = dataset_car.drop('class values', 1)  \n",
    "X_car = pd.get_dummies(X_car)\n",
    "X_car.head() # shows only the first 5 instances on the data set"
   ]
  },
  {
   "cell_type": "markdown",
   "metadata": {},
   "source": [
    "## Rank features"
   ]
  },
  {
   "cell_type": "markdown",
   "metadata": {},
   "source": [
    "### Categorical data set (Car)"
   ]
  },
  {
   "cell_type": "code",
   "execution_count": 5,
   "metadata": {
    "scrolled": false
   },
   "outputs": [
    {
     "name": "stdout",
     "output_type": "stream",
     "text": [
      "CAR SHAPE OLD:  (1728, 21)\n",
      "\n",
      "CAR INDICES:  [12 18 19]\n",
      "\n",
      "CAR SHAPE NEW:  (1728, 3)\n",
      "\n",
      "CAR FIT SCORES:  [  3.653e+01   8.682e+01   1.546e+01   5.043e+01   1.918e+01   5.787e+01\n",
      "   1.546e+01   5.043e+01   6.867e+00   2.432e-01   1.637e+00   1.637e+00\n",
      "   2.466e+02   6.952e+01   5.524e+01   2.065e+01   1.258e+00   3.137e+01\n",
      "   1.735e+02   2.466e+02   5.924e+01]\n",
      "\n",
      "CAR Features:  [[1 0 1]\n",
      " [1 0 0]\n",
      " [1 1 0]\n",
      " [1 0 1]]\n",
      "\n",
      "CAR UNIVARIATE SELECTION:  (array([  3.653e+01,   8.682e+01,   1.546e+01,   5.043e+01,   1.918e+01,\n",
      "         5.787e+01,   1.546e+01,   5.043e+01,   6.867e+00,   2.432e-01,\n",
      "         1.637e+00,   1.637e+00,   2.466e+02,   6.952e+01,   5.524e+01,\n",
      "         2.065e+01,   1.258e+00,   3.137e+01,   1.735e+02,   2.466e+02,\n",
      "         5.924e+01]), array([  5.790e-08,   1.054e-18,   1.462e-03,   6.471e-11,   2.508e-04,\n",
      "         1.677e-12,   1.462e-03,   6.471e-11,   7.627e-02,   9.703e-01,\n",
      "         6.509e-01,   6.509e-01,   3.584e-53,   5.418e-15,   6.117e-12,\n",
      "         1.244e-04,   7.392e-01,   7.095e-07,   2.242e-37,   3.584e-53,\n",
      "         8.523e-13]))\n"
     ]
    }
   ],
   "source": [
    "# https://machinelearningmastery.com/feature-selection-machine-learning-python/\n",
    "from sklearn.feature_selection import SelectKBest, chi2\n",
    "import numpy\n",
    "\n",
    "# UNIVARIATE SELECTION -> Statistical tests can be used to select those features that have the strongest relationship with the output variable.\n",
    "\n",
    "print(\"CAR SHAPE OLD: \", X_car.shape)\n",
    "\n",
    "# feature extraction\n",
    "test_car = SelectKBest(score_func = chi2, k = 3) # selects features using chi square and selects 3 of the best features\n",
    "fit_car = test_car.fit(X_car, Y_car) # Run score function on (X, Y) and get the appropriate features.\n",
    "indices_car = fit_car.get_support(indices='false') # Get a mask, or integer index, of the features selected\n",
    "print(\"\\nCAR INDICES: \", indices_car)\n",
    "\n",
    "# new dataset\n",
    "X_car_new = SelectKBest(chi2, k=3).fit_transform(X_car, Y_car)\n",
    "print(\"\\nCAR SHAPE NEW: \", X_car_new.shape)\n",
    "\n",
    "# summarize scores \n",
    "numpy.set_printoptions(precision = 3) # sets precision to 3 numbers\n",
    "print(\"\\nCAR FIT SCORES: \", fit_car.scores_)\n",
    "\n",
    "# Apply the transformation to the dataset\n",
    "features_car = fit_car.transform(X_car)\n",
    "\n",
    "# Summarize selected features\n",
    "print(\"\\nCAR Features: \", features_car[0:4,:])\n",
    "\n",
    "uni_selection_car = chi2(X_car, Y_car) # MAYBE NOT NEEDED\n",
    "print(\"\\nCAR UNIVARIATE SELECTION: \", uni_selection_car) # MAYBE NOT NEEDED"
   ]
  },
  {
   "cell_type": "markdown",
   "metadata": {},
   "source": [
    "### Numerical data set (White wine)"
   ]
  },
  {
   "cell_type": "code",
   "execution_count": 6,
   "metadata": {},
   "outputs": [
    {
     "data": {
      "text/html": [
       "<div>\n",
       "<style scoped>\n",
       "    .dataframe tbody tr th:only-of-type {\n",
       "        vertical-align: middle;\n",
       "    }\n",
       "\n",
       "    .dataframe tbody tr th {\n",
       "        vertical-align: top;\n",
       "    }\n",
       "\n",
       "    .dataframe thead th {\n",
       "        text-align: right;\n",
       "    }\n",
       "</style>\n",
       "<table border=\"1\" class=\"dataframe\">\n",
       "  <thead>\n",
       "    <tr style=\"text-align: right;\">\n",
       "      <th></th>\n",
       "      <th>quality</th>\n",
       "    </tr>\n",
       "  </thead>\n",
       "  <tbody>\n",
       "    <tr>\n",
       "      <th>0</th>\n",
       "      <td>6</td>\n",
       "    </tr>\n",
       "    <tr>\n",
       "      <th>1</th>\n",
       "      <td>6</td>\n",
       "    </tr>\n",
       "    <tr>\n",
       "      <th>2</th>\n",
       "      <td>6</td>\n",
       "    </tr>\n",
       "    <tr>\n",
       "      <th>3</th>\n",
       "      <td>6</td>\n",
       "    </tr>\n",
       "    <tr>\n",
       "      <th>4</th>\n",
       "      <td>6</td>\n",
       "    </tr>\n",
       "  </tbody>\n",
       "</table>\n",
       "</div>"
      ],
      "text/plain": [
       "   quality\n",
       "0        6\n",
       "1        6\n",
       "2        6\n",
       "3        6\n",
       "4        6"
      ]
     },
     "execution_count": 6,
     "metadata": {},
     "output_type": "execute_result"
    }
   ],
   "source": [
    "#Y_white = dataset_white['quality']\n",
    "Y_white = pd.get_dummies(dataset_white[['quality']])\n",
    "Y_white.head() # shows only the firts 5 instances on the data set"
   ]
  },
  {
   "cell_type": "code",
   "execution_count": 7,
   "metadata": {},
   "outputs": [
    {
     "data": {
      "text/html": [
       "<div>\n",
       "<style scoped>\n",
       "    .dataframe tbody tr th:only-of-type {\n",
       "        vertical-align: middle;\n",
       "    }\n",
       "\n",
       "    .dataframe tbody tr th {\n",
       "        vertical-align: top;\n",
       "    }\n",
       "\n",
       "    .dataframe thead th {\n",
       "        text-align: right;\n",
       "    }\n",
       "</style>\n",
       "<table border=\"1\" class=\"dataframe\">\n",
       "  <thead>\n",
       "    <tr style=\"text-align: right;\">\n",
       "      <th></th>\n",
       "      <th>fixed acidity</th>\n",
       "      <th>volatile acidity</th>\n",
       "      <th>citric acid</th>\n",
       "      <th>residual sugar</th>\n",
       "      <th>chlorides</th>\n",
       "      <th>free sulfur dioxide</th>\n",
       "      <th>total sulfur dioxide</th>\n",
       "      <th>density</th>\n",
       "      <th>pH</th>\n",
       "      <th>sulphates</th>\n",
       "      <th>alcohol</th>\n",
       "    </tr>\n",
       "  </thead>\n",
       "  <tbody>\n",
       "    <tr>\n",
       "      <th>0</th>\n",
       "      <td>7.0</td>\n",
       "      <td>0.27</td>\n",
       "      <td>0.36</td>\n",
       "      <td>20.7</td>\n",
       "      <td>0.045</td>\n",
       "      <td>45.0</td>\n",
       "      <td>170.0</td>\n",
       "      <td>1.0010</td>\n",
       "      <td>3.00</td>\n",
       "      <td>0.45</td>\n",
       "      <td>8.8</td>\n",
       "    </tr>\n",
       "    <tr>\n",
       "      <th>1</th>\n",
       "      <td>6.3</td>\n",
       "      <td>0.30</td>\n",
       "      <td>0.34</td>\n",
       "      <td>1.6</td>\n",
       "      <td>0.049</td>\n",
       "      <td>14.0</td>\n",
       "      <td>132.0</td>\n",
       "      <td>0.9940</td>\n",
       "      <td>3.30</td>\n",
       "      <td>0.49</td>\n",
       "      <td>9.5</td>\n",
       "    </tr>\n",
       "    <tr>\n",
       "      <th>2</th>\n",
       "      <td>8.1</td>\n",
       "      <td>0.28</td>\n",
       "      <td>0.40</td>\n",
       "      <td>6.9</td>\n",
       "      <td>0.050</td>\n",
       "      <td>30.0</td>\n",
       "      <td>97.0</td>\n",
       "      <td>0.9951</td>\n",
       "      <td>3.26</td>\n",
       "      <td>0.44</td>\n",
       "      <td>10.1</td>\n",
       "    </tr>\n",
       "    <tr>\n",
       "      <th>3</th>\n",
       "      <td>7.2</td>\n",
       "      <td>0.23</td>\n",
       "      <td>0.32</td>\n",
       "      <td>8.5</td>\n",
       "      <td>0.058</td>\n",
       "      <td>47.0</td>\n",
       "      <td>186.0</td>\n",
       "      <td>0.9956</td>\n",
       "      <td>3.19</td>\n",
       "      <td>0.40</td>\n",
       "      <td>9.9</td>\n",
       "    </tr>\n",
       "    <tr>\n",
       "      <th>4</th>\n",
       "      <td>7.2</td>\n",
       "      <td>0.23</td>\n",
       "      <td>0.32</td>\n",
       "      <td>8.5</td>\n",
       "      <td>0.058</td>\n",
       "      <td>47.0</td>\n",
       "      <td>186.0</td>\n",
       "      <td>0.9956</td>\n",
       "      <td>3.19</td>\n",
       "      <td>0.40</td>\n",
       "      <td>9.9</td>\n",
       "    </tr>\n",
       "  </tbody>\n",
       "</table>\n",
       "</div>"
      ],
      "text/plain": [
       "   fixed acidity  volatile acidity  citric acid  residual sugar  chlorides  \\\n",
       "0            7.0              0.27         0.36            20.7      0.045   \n",
       "1            6.3              0.30         0.34             1.6      0.049   \n",
       "2            8.1              0.28         0.40             6.9      0.050   \n",
       "3            7.2              0.23         0.32             8.5      0.058   \n",
       "4            7.2              0.23         0.32             8.5      0.058   \n",
       "\n",
       "   free sulfur dioxide  total sulfur dioxide  density    pH  sulphates  \\\n",
       "0                 45.0                 170.0   1.0010  3.00       0.45   \n",
       "1                 14.0                 132.0   0.9940  3.30       0.49   \n",
       "2                 30.0                  97.0   0.9951  3.26       0.44   \n",
       "3                 47.0                 186.0   0.9956  3.19       0.40   \n",
       "4                 47.0                 186.0   0.9956  3.19       0.40   \n",
       "\n",
       "   alcohol  \n",
       "0      8.8  \n",
       "1      9.5  \n",
       "2     10.1  \n",
       "3      9.9  \n",
       "4      9.9  "
      ]
     },
     "execution_count": 7,
     "metadata": {},
     "output_type": "execute_result"
    }
   ],
   "source": [
    "X_white = dataset_white.drop('quality', 1)\n",
    "X_white.head() # shows only the first 5 instances on the data set"
   ]
  },
  {
   "cell_type": "code",
   "execution_count": 8,
   "metadata": {},
   "outputs": [
    {
     "name": "stdout",
     "output_type": "stream",
     "text": [
      "WHITE SHAPE OLD:  (4898, 11)\n",
      "\n",
      "WHITE WINE INDICES:  [ 0  1  3  5  6 10]\n",
      "\n",
      "WHITE SHAPE NEW:  (4898, 6)\n",
      "\n",
      "WHITE FIT SCORES:  [  7.922e+00   1.262e+01   8.511e-01   5.012e+02   2.529e+00   9.477e+02\n",
      "   3.358e+03   5.065e-03   4.287e-01   5.792e-01   1.551e+02]\n",
      "\n",
      "Features WHITE:  [[   7.      0.27   20.7    45.    170.      8.8 ]\n",
      " [   6.3     0.3     1.6    14.    132.      9.5 ]\n",
      " [   8.1     0.28    6.9    30.     97.     10.1 ]\n",
      " [   7.2     0.23    8.5    47.    186.      9.9 ]]\n",
      "\n",
      "WHITE UNIVARIATE SELECTION:  (array([  7.922e+00,   1.262e+01,   8.511e-01,   5.012e+02,   2.529e+00,\n",
      "         9.477e+02,   3.358e+03,   5.065e-03,   4.287e-01,   5.792e-01,\n",
      "         1.551e+02]), array([  2.439e-001,   4.944e-002,   9.906e-001,   4.556e-105,\n",
      "         8.652e-001,   1.815e-201,   0.000e+000,   1.000e+000,\n",
      "         9.986e-001,   9.967e-001,   6.522e-031]))\n"
     ]
    }
   ],
   "source": [
    "print(\"WHITE SHAPE OLD: \", X_white.shape)\n",
    "\n",
    "# feature extraction\n",
    "test_white = SelectKBest(score_func = chi2, k = 6) # selects features using chi square and selects 6 of the best features\n",
    "fit_white = test_white.fit(X_white, Y_white) # Run score function on (X, Y) and get the appropriate features.\n",
    "indices_white = fit_white.get_support(indices='false') # Get a mask, or integer index, of the features selected\n",
    "print(\"\\nWHITE WINE INDICES: \", indices_white)\n",
    "\n",
    "# new dataset\n",
    "X_white_new = SelectKBest(chi2, k=6).fit_transform(X_white, Y_white)\n",
    "print(\"\\nWHITE SHAPE NEW: \", X_white_new.shape)\n",
    "\n",
    "# summarize scores \n",
    "numpy.set_printoptions(precision = 3) # sets precision to 3 numbers\n",
    "print(\"\\nWHITE FIT SCORES: \", fit_white.scores_)\n",
    "\n",
    "# Apply the transformation to the dataset\n",
    "features_white = fit_white.transform(X_white)\n",
    "\n",
    "# Summarize selected features\n",
    "print(\"\\nFeatures WHITE: \", features_white[0:4,:])\n",
    "\n",
    "uni_selection_white = chi2(X_white, Y_white) # MAYBE NOT NEEDED\n",
    "print(\"\\nWHITE UNIVARIATE SELECTION: \", uni_selection_white) # MAYBE NOT NEEDED"
   ]
  },
  {
   "cell_type": "markdown",
   "metadata": {},
   "source": [
    "### Principal Component Analysis"
   ]
  },
  {
   "cell_type": "markdown",
   "metadata": {},
   "source": [
    "#### Prepare the data for a classification task"
   ]
  },
  {
   "cell_type": "code",
   "execution_count": 9,
   "metadata": {},
   "outputs": [],
   "source": [
    "from sklearn.model_selection import train_test_split\n",
    "\n",
    "# Splitting the dataset into the Training set and Test set for both data sets\n",
    "X_car_train, X_car_test, Y_car_train, Y_car_test = train_test_split(X_car, Y_car, test_size=0.3, random_state=0)\n",
    "X_white_train, X_white_test, Y_white_train, Y_white_test = train_test_split(X_white, Y_white, test_size=0.3, random_state=0)"
   ]
  },
  {
   "cell_type": "markdown",
   "metadata": {},
   "source": [
    "#### Normalize Features"
   ]
  },
  {
   "cell_type": "code",
   "execution_count": 10,
   "metadata": {},
   "outputs": [
    {
     "name": "stderr",
     "output_type": "stream",
     "text": [
      "/Library/Frameworks/Python.framework/Versions/3.6/lib/python3.6/site-packages/sklearn/preprocessing/data.py:617: DataConversionWarning: Data with input dtype uint8 were all converted to float64 by StandardScaler.\n",
      "  return self.partial_fit(X, y)\n",
      "/Library/Frameworks/Python.framework/Versions/3.6/lib/python3.6/site-packages/sklearn/base.py:462: DataConversionWarning: Data with input dtype uint8 were all converted to float64 by StandardScaler.\n",
      "  return self.fit(X, **fit_params).transform(X)\n",
      "/Library/Frameworks/Python.framework/Versions/3.6/lib/python3.6/site-packages/ipykernel_launcher.py:5: DataConversionWarning: Data with input dtype uint8 were all converted to float64 by StandardScaler.\n",
      "  \"\"\"\n"
     ]
    }
   ],
   "source": [
    "from sklearn.preprocessing import StandardScaler\n",
    "\n",
    "sc = StandardScaler()  \n",
    "X_car_train_std = sc.fit_transform(X_car_train)  \n",
    "X_car_test_std = sc.transform(X_car_test) \n",
    " \n",
    "X_white_train_std = sc.fit_transform(X_white_train)  \n",
    "X_white_test_std = sc.transform(X_white_test)"
   ]
  },
  {
   "cell_type": "markdown",
   "metadata": {},
   "source": [
    "#### Perform PCA (Car)"
   ]
  },
  {
   "cell_type": "code",
   "execution_count": 11,
   "metadata": {},
   "outputs": [
    {
     "data": {
      "text/plain": [
       "array([  7.653e-02,   7.418e-02,   7.285e-02,   7.178e-02,   7.019e-02,\n",
       "         6.887e-02,   6.565e-02,   6.518e-02,   6.445e-02,   6.388e-02,\n",
       "         6.263e-02,   6.256e-02,   6.117e-02,   6.056e-02,   5.952e-02,\n",
       "         4.353e-31,   5.265e-32,   1.132e-32,   9.360e-33,   4.283e-33,\n",
       "         2.263e-33])"
      ]
     },
     "execution_count": 11,
     "metadata": {},
     "output_type": "execute_result"
    }
   ],
   "source": [
    "from sklearn.decomposition import PCA\n",
    " \n",
    "pca_car = PCA()  # Initialize the PCA class by passing the number of components to the constructor.\n",
    "X_car_train_pca = pca_car.fit_transform(X_car_train_std)  \n",
    "pca_car.explained_variance_ratio_ # variance caused by each of the principal components."
   ]
  },
  {
   "cell_type": "markdown",
   "metadata": {},
   "source": [
    "#### Perform PCA (White wine)"
   ]
  },
  {
   "cell_type": "code",
   "execution_count": 12,
   "metadata": {},
   "outputs": [
    {
     "data": {
      "text/plain": [
       "array([ 0.297,  0.142,  0.112,  0.095,  0.087,  0.084,  0.066,  0.054,\n",
       "        0.037,  0.026,  0.001])"
      ]
     },
     "execution_count": 12,
     "metadata": {},
     "output_type": "execute_result"
    }
   ],
   "source": [
    "pca_white = PCA()  # Initialize the PCA class by passing the number of components to the constructor. # empty all features\n",
    "X_white_train_pca = pca_white.fit_transform(X_white_train_std)  \n",
    "pca_white.explained_variance_ratio_ # variance caused by each of the principal components."
   ]
  },
  {
   "cell_type": "code",
   "execution_count": 13,
   "metadata": {},
   "outputs": [
    {
     "data": {
      "image/png": "[encoded data removed]",
      "text/plain": [
       "<Figure size 432x288 with 1 Axes>"
      ]
     },
     "metadata": {
      "needs_background": "light"
     },
     "output_type": "display_data"
    },
    {
     "data": {
      "image/png": "[encoded data removed]",
      "text/plain": [
       "<Figure size 432x288 with 1 Axes>"
      ]
     },
     "metadata": {
      "needs_background": "light"
     },
     "output_type": "display_data"
    }
   ],
   "source": [
    "%matplotlib inline \n",
    "import matplotlib.pyplot as plt\n",
    "\n",
    "# Here we can see that increasing the features more or less between 14/15 it tens to get more accuracy nearly to 100%\n",
    "plt.bar(range(21), pca_car.explained_variance_ratio_, alpha=0.5, align='center')#, pca.explained_variance_ratio_, alpha=0.5, align='center')\n",
    "plt.step(range(21), numpy.cumsum(pca_car.explained_variance_ratio_), where='mid')\n",
    "plt.ylabel('CAR: Explained variance ratio')\n",
    "plt.xlabel('CAR: Principal components')\n",
    "plt.show()\n",
    "\n",
    "plt.bar(range(11), pca_white.explained_variance_ratio_, alpha=0.5, align='center')#, pca.explained_variance_ratio_, alpha=0.5, align='center')\n",
    "plt.step(range(11), numpy.cumsum(pca_white.explained_variance_ratio_), where='mid')\n",
    "plt.ylabel('WHITE: Explained variance ratio')\n",
    "plt.xlabel('WHITE: Principal components')\n",
    "plt.show()"
   ]
  },
  {
   "cell_type": "markdown",
   "metadata": {},
   "source": [
    "#### Dimension Reduction before classification"
   ]
  },
  {
   "cell_type": "code",
   "execution_count": 14,
   "metadata": {},
   "outputs": [
    {
     "name": "stdout",
     "output_type": "stream",
     "text": [
      "CAR:  PCA(copy=True, iterated_power='auto', n_components=13, random_state=None,\n",
      "  svd_solver='auto', tol=0.0, whiten=False)\n",
      "\n",
      "WHITE:  PCA(copy=True, iterated_power='auto', n_components=7, random_state=None,\n",
      "  svd_solver='auto', tol=0.0, whiten=False)\n"
     ]
    }
   ],
   "source": [
    "pca_car = PCA(n_components = 13) # for getting more or less of 94% of variance ratio = 13\n",
    "X_car_train_pca = pca_car.fit_transform(X_car_train_std)\n",
    "X_car_test_pca = pca_car.transform(X_car_test_std) # returns the specified number of principal components.\n",
    "print(\"CAR: \", pca_car)\n",
    "\n",
    "pca_white = PCA(n_components = 7) # for getting more or less of 93% of variance ratio = 7\n",
    "X_white_train_pca = pca_white.fit_transform(X_white_train_std)\n",
    "X_white_test_pca = pca_white.transform(X_white_test_std) # returns the specified number of principal components. \n",
    "print(\"\\nWHITE: \", pca_white)"
   ]
  },
  {
   "cell_type": "code",
   "execution_count": 16,
   "metadata": {},
   "outputs": [
    {
     "data": {
      "image/png": "[encoded data removed]",
      "text/plain": [
       "<Figure size 720x360 with 2 Axes>"
      ]
     },
     "metadata": {
      "needs_background": "light"
     },
     "output_type": "display_data"
    }
   ],
   "source": [
    "# WHITE WINE\n",
    "plt.rcParams.update({'font.size': 10})\n",
    "fig, axes = plt.subplots(nrows=1, ncols=2, figsize=(10,5))\n",
    "axes = axes.ravel()   \n",
    "ax = axes[0]\n",
    "ax.figure\n",
    "inx=(Y_white_train >= 1)\n",
    "inx=inx.values.ravel()\n",
    "ax.scatter(X_white_train_pca[inx,0], X_white_train_pca[inx,1],marker='s',color='r',label='M') \n",
    "inx=(Y_white_train <= 10)\n",
    "inx=inx.values.ravel()\n",
    "ax.scatter(X_white_train_pca[inx,0],X_white_train_pca[inx,1],marker='o',color='g',label='B')    \n",
    "ax.set_title(\"Training set\")\n",
    "ax.set_xlabel('PC 1')\n",
    "ax.set_ylabel('PC 2')\n",
    "ax.legend()\n",
    "ax.grid()\n",
    "\n",
    "ax = axes[1]\n",
    "ax.figure\n",
    "inx=(Y_white_test >= 1)\n",
    "inx=inx.values.ravel()\n",
    "ax.scatter(X_white_test_pca[inx,0],X_white_test_pca[inx,1],marker='s',color='r',label='M')  \n",
    "inx=(Y_white_test <= 10)\n",
    "inx=inx.values.ravel()\n",
    "ax.scatter(X_white_test_pca[inx,0],X_white_test_pca[inx,1],marker='o',color='g',label='B')\n",
    "    \n",
    "ax.set_title(\"Test set: data not used to adapt PCA\")    \n",
    "\n",
    "ax.legend() \n",
    "ax.grid()\n",
    "plt.xlabel('PC 1')\n",
    "plt.ylabel('PC 2')\n",
    "plt.show()"
   ]
  },
  {
   "cell_type": "markdown",
   "metadata": {},
   "source": [
    "### Kernel Principal Components"
   ]
  }
 ],
 "metadata": {
  "kernelspec": {
   "display_name": "Python 3",
   "language": "python",
   "name": "python3"
  },
  "language_info": {
   "codemirror_mode": {
    "name": "ipython",
    "version": 3
   },
   "file_extension": ".py",
   "mimetype": "text/x-python",
   "name": "python",
   "nbconvert_exporter": "python",
   "pygments_lexer": "ipython3",
   "version": "3.6.2"
  }
 },
 "nbformat": 4,
 "nbformat_minor": 2
}
