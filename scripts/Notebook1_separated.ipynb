{
 "cells": [
  {
   "cell_type": "markdown",
   "metadata": {},
   "source": [
    "# Data Mining Final Project - Notebook 1\n",
    "### Datasets :\n",
    "   > ### Car Evaluation Dataset\n",
    "   > ### Wine Quality Dataset (White)\n",
    "### Authors:\n",
    "> ### Francisco Cunha, 76759\n",
    "> ### João Amaral, 76460"
   ]
  },
  {
   "cell_type": "markdown",
   "metadata": {},
   "source": [
    "The following notebook containts the development stages of the analysis and classifier modeling of a dataset, done for the final project of the course 44152 - Data Mining at University of Aveiro.\n",
    "The project requested that the students selected two different datasets and apply common data mining techniques in order to extract patterns and predict behavior in the studied data (train classifiers). The students were required to freely select two datasets to develop the project, the only restriction being one of them had to contain some sort of categorical attributes. The first dataset chosen was the the Car Evaluation Dataset, containing categorical attributes, which is available at https://archive.ics.uci.edu/ml/datasets/Car+Evaluation. The second dataset chosen was the Wine Quality Dataset, available at https://archive.ics.uci.edu/ml/datasets/Wine+Quality. It contains two datasets one for red and other for white whine. The white wine one was then chosen.\n",
    "\n",
    "The assignment of the project required the delivery of two notebooks, one containing only the data pre-processing and classifier modeling for both chosen datasets, while the second contains the complete processing including a cross validation scheme implementation and the justification for its selection.\n",
    "\n",
    "This notebook corresponds to the first one, and as such, the notebook is then divided into 2 main stages, corresponding to the data mining stages we already studied in the theorethical classes:\n",
    "    - Task A : Pre-processing stage\n",
    "    - Task B : Training model stage\n",
    "    \n",
    "In order to ease the reading of the notebook, both tasks were applied separately to each dataset and here displayed in two separate sections:\n",
    "- [Dataset 1: Car Evaluation Dataset](#Dataset-1-:-Car-Evaluation-Dataset)\n",
    "    - [Task A: Car Pre-processing](#Task-A:-Car-Pre-processing)\n",
    "    - [Task B: Car Model training](#Task-B:-Car-Model-training)\n",
    "- [Dataset 2: White wine quality dataset](#Dataset-2-:-White-wine-quality-dataset)\n",
    "    - [Task A: Wine Pre-processing](#Task-A:-Wine-Pre-processing)\n",
    "    - [Task B: Wine Model Training](#Task-B:-Wine-Model-Training)"
   ]
  },
  {
   "cell_type": "markdown",
   "metadata": {},
   "source": [
    "# Dataset 1 : Car Evaluation Dataset\n",
    "## Task A: Car Pre-processing "
   ]
  },
  {
   "cell_type": "markdown",
   "metadata": {},
   "source": [
    "- [CSV's File Reading](#CSV's-File-Reading)\n",
    "- [Attributes and classes sample values](#Attributes-and-classes-sample-values)\n",
    "- [Mapping categorial attributes to numeric](#Mapping-categorial-attributes-to-numeric)\n",
    "- [Class distribution visualization](#Class-distribution-visualization)\n",
    "- [Dataset detailed description](#Dataset-detailed-description)\n",
    "- [Attribute and class plotting examples](#Attribute-and-class-plotting-examples)\n",
    "- [Correlation matrix heatmap](#Correlation-matrix-heatmap)\n",
    "- [Feature ranking (Shapiro-Wilk)](#Feature-ranking-(Shapiro-Wilk))\n",
    "- [Feature scaling](#Feature-scaling)"
   ]
  },
  {
   "cell_type": "markdown",
   "metadata": {},
   "source": [
    "### CSV's File Reading"
   ]
  },
  {
   "cell_type": "code",
   "execution_count": 1,
   "metadata": {},
   "outputs": [],
   "source": [
    "import os\n",
    "import pandas as pd\n",
    "from pandas import DataFrame\n",
    "\n",
    "#Disable warning\n",
    "import warnings\n",
    "warnings.filterwarnings(\"ignore\", category=FutureWarning)\n",
    "warnings.filterwarnings(\"ignore\", category=DeprecationWarning)\n",
    "\n",
    "# Load dataframes from data set CSV files\n",
    "dataset_car = pd.read_csv('./car.csv') # categorical: https://archive.ics.uci.edu/ml/datasets/Car+Evaluation"
   ]
  },
  {
   "cell_type": "markdown",
   "metadata": {},
   "source": [
    "### Attributes and classes sample values"
   ]
  },
  {
   "cell_type": "code",
   "execution_count": 2,
   "metadata": {},
   "outputs": [
    {
     "data": {
      "text/html": [
       "<div>\n",
       "<style scoped>\n",
       "    .dataframe tbody tr th:only-of-type {\n",
       "        vertical-align: middle;\n",
       "    }\n",
       "\n",
       "    .dataframe tbody tr th {\n",
       "        vertical-align: top;\n",
       "    }\n",
       "\n",
       "    .dataframe thead th {\n",
       "        text-align: right;\n",
       "    }\n",
       "</style>\n",
       "<table border=\"1\" class=\"dataframe\">\n",
       "  <thead>\n",
       "    <tr style=\"text-align: right;\">\n",
       "      <th></th>\n",
       "      <th>buying</th>\n",
       "      <th>maint</th>\n",
       "      <th>doors</th>\n",
       "      <th>persons</th>\n",
       "      <th>lug_boot</th>\n",
       "      <th>safety</th>\n",
       "      <th>class values</th>\n",
       "    </tr>\n",
       "  </thead>\n",
       "  <tbody>\n",
       "    <tr>\n",
       "      <th>0</th>\n",
       "      <td>vhigh</td>\n",
       "      <td>vhigh</td>\n",
       "      <td>2</td>\n",
       "      <td>2</td>\n",
       "      <td>small</td>\n",
       "      <td>low</td>\n",
       "      <td>unacc</td>\n",
       "    </tr>\n",
       "    <tr>\n",
       "      <th>1</th>\n",
       "      <td>vhigh</td>\n",
       "      <td>vhigh</td>\n",
       "      <td>2</td>\n",
       "      <td>2</td>\n",
       "      <td>small</td>\n",
       "      <td>med</td>\n",
       "      <td>unacc</td>\n",
       "    </tr>\n",
       "    <tr>\n",
       "      <th>2</th>\n",
       "      <td>vhigh</td>\n",
       "      <td>vhigh</td>\n",
       "      <td>2</td>\n",
       "      <td>2</td>\n",
       "      <td>small</td>\n",
       "      <td>high</td>\n",
       "      <td>unacc</td>\n",
       "    </tr>\n",
       "    <tr>\n",
       "      <th>3</th>\n",
       "      <td>vhigh</td>\n",
       "      <td>vhigh</td>\n",
       "      <td>2</td>\n",
       "      <td>2</td>\n",
       "      <td>med</td>\n",
       "      <td>low</td>\n",
       "      <td>unacc</td>\n",
       "    </tr>\n",
       "    <tr>\n",
       "      <th>4</th>\n",
       "      <td>vhigh</td>\n",
       "      <td>vhigh</td>\n",
       "      <td>2</td>\n",
       "      <td>2</td>\n",
       "      <td>med</td>\n",
       "      <td>med</td>\n",
       "      <td>unacc</td>\n",
       "    </tr>\n",
       "  </tbody>\n",
       "</table>\n",
       "</div>"
      ],
      "text/plain": [
       "  buying  maint doors persons lug_boot safety class values\n",
       "0  vhigh  vhigh     2       2    small    low        unacc\n",
       "1  vhigh  vhigh     2       2    small    med        unacc\n",
       "2  vhigh  vhigh     2       2    small   high        unacc\n",
       "3  vhigh  vhigh     2       2      med    low        unacc\n",
       "4  vhigh  vhigh     2       2      med    med        unacc"
      ]
     },
     "execution_count": 2,
     "metadata": {},
     "output_type": "execute_result"
    }
   ],
   "source": [
    "dataset_car.head() # shows only the first 5 instances on the data set"
   ]
  },
  {
   "cell_type": "markdown",
   "metadata": {},
   "source": [
    "### Mapping categorical attributes to numeric "
   ]
  },
  {
   "cell_type": "code",
   "execution_count": 3,
   "metadata": {},
   "outputs": [
    {
     "data": {
      "text/html": [
       "<div>\n",
       "<style scoped>\n",
       "    .dataframe tbody tr th:only-of-type {\n",
       "        vertical-align: middle;\n",
       "    }\n",
       "\n",
       "    .dataframe tbody tr th {\n",
       "        vertical-align: top;\n",
       "    }\n",
       "\n",
       "    .dataframe thead th {\n",
       "        text-align: right;\n",
       "    }\n",
       "</style>\n",
       "<table border=\"1\" class=\"dataframe\">\n",
       "  <thead>\n",
       "    <tr style=\"text-align: right;\">\n",
       "      <th></th>\n",
       "      <th>buying</th>\n",
       "      <th>maint</th>\n",
       "      <th>doors</th>\n",
       "      <th>persons</th>\n",
       "      <th>lug_boot</th>\n",
       "      <th>safety</th>\n",
       "      <th>class values</th>\n",
       "    </tr>\n",
       "  </thead>\n",
       "  <tbody>\n",
       "    <tr>\n",
       "      <th>0</th>\n",
       "      <td>4</td>\n",
       "      <td>4</td>\n",
       "      <td>1</td>\n",
       "      <td>1</td>\n",
       "      <td>1</td>\n",
       "      <td>1</td>\n",
       "      <td>1</td>\n",
       "    </tr>\n",
       "    <tr>\n",
       "      <th>1</th>\n",
       "      <td>4</td>\n",
       "      <td>4</td>\n",
       "      <td>1</td>\n",
       "      <td>1</td>\n",
       "      <td>1</td>\n",
       "      <td>2</td>\n",
       "      <td>1</td>\n",
       "    </tr>\n",
       "    <tr>\n",
       "      <th>2</th>\n",
       "      <td>4</td>\n",
       "      <td>4</td>\n",
       "      <td>1</td>\n",
       "      <td>1</td>\n",
       "      <td>1</td>\n",
       "      <td>3</td>\n",
       "      <td>1</td>\n",
       "    </tr>\n",
       "    <tr>\n",
       "      <th>3</th>\n",
       "      <td>4</td>\n",
       "      <td>4</td>\n",
       "      <td>1</td>\n",
       "      <td>1</td>\n",
       "      <td>2</td>\n",
       "      <td>1</td>\n",
       "      <td>1</td>\n",
       "    </tr>\n",
       "    <tr>\n",
       "      <th>4</th>\n",
       "      <td>4</td>\n",
       "      <td>4</td>\n",
       "      <td>1</td>\n",
       "      <td>1</td>\n",
       "      <td>2</td>\n",
       "      <td>2</td>\n",
       "      <td>1</td>\n",
       "    </tr>\n",
       "  </tbody>\n",
       "</table>\n",
       "</div>"
      ],
      "text/plain": [
       "   buying  maint  doors  persons  lug_boot  safety  class values\n",
       "0       4      4      1        1         1       1             1\n",
       "1       4      4      1        1         1       2             1\n",
       "2       4      4      1        1         1       3             1\n",
       "3       4      4      1        1         2       1             1\n",
       "4       4      4      1        1         2       2             1"
      ]
     },
     "execution_count": 3,
     "metadata": {},
     "output_type": "execute_result"
    }
   ],
   "source": [
    "# Dictionary containing the mapping to be done in order \n",
    "# to convert categorical attributes to numeric ones\n",
    "# Not the most efficient method but we decide to which\n",
    "# numerical value each attribue will be converted to\n",
    "numeric_map = {\n",
    "\t'buying' : { 'low' : 1, 'med' : 2, 'high' : 3, 'vhigh': 4 },\n",
    "\t'maint' : {'low' : 1, 'med' : 2, 'high' : 3, 'vhigh': 4 },\n",
    "\t'doors' : { '2' : 1, '3' : 2, '4' : 3, '5more' : 4 },\n",
    "\t'persons' : {'2' : 1, '4' : 2, 'more' : 3 },\n",
    "\t'lug_boot' : {'small' : 1,'med': 2, 'big': 3 },\n",
    "\t'safety' : {'low' : 1, 'med' : 2, 'high': 3 }\n",
    "}\n",
    "\n",
    "for m in numeric_map:\n",
    "\tdataset_car[m] = dataset_car[m].map(numeric_map[m])\n",
    "\n",
    "# classes values mapping to numeric values\n",
    "dataset_car['class values'].replace(('unacc','acc','good','vgood'),(1,2,3,4), inplace=True)\n",
    "\n",
    "dataset_car.head()"
   ]
  },
  {
   "cell_type": "markdown",
   "metadata": {},
   "source": [
    "### Class distribution visualization"
   ]
  },
  {
   "cell_type": "code",
   "execution_count": 4,
   "metadata": {},
   "outputs": [
    {
     "data": {
      "image/png": "[encoded data removed]",
      "text/plain": [
       "<Figure size 432x288 with 1 Axes>"
      ]
     },
     "metadata": {
      "needs_background": "light"
     },
     "output_type": "display_data"
    }
   ],
   "source": [
    "%matplotlib inline \n",
    "import matplotlib.pyplot as plt \n",
    "\n",
    "plt.hist(dataset_car['class values'])\n",
    "plt.title('Car dataset class distribution')\n",
    "plt.show()"
   ]
  },
  {
   "cell_type": "markdown",
   "metadata": {},
   "source": [
    "### Dataset detailed description"
   ]
  },
  {
   "cell_type": "code",
   "execution_count": 80,
   "metadata": {},
   "outputs": [
    {
     "name": "stdout",
     "output_type": "stream",
     "text": [
      "Dataset description\n",
      "              buying        maint        doors      persons     lug_boot  \\\n",
      "count  1728.000000  1728.000000  1728.000000  1728.000000  1728.000000   \n",
      "mean      2.500000     2.500000     2.500000     2.000000     2.000000   \n",
      "std       1.118358     1.118358     1.118358     0.816733     0.816733   \n",
      "min       1.000000     1.000000     1.000000     1.000000     1.000000   \n",
      "25%       1.750000     1.750000     1.750000     1.000000     1.000000   \n",
      "50%       2.500000     2.500000     2.500000     2.000000     2.000000   \n",
      "75%       3.250000     3.250000     3.250000     3.000000     3.000000   \n",
      "max       4.000000     4.000000     4.000000     3.000000     3.000000   \n",
      "\n",
      "            safety  class values  \n",
      "count  1728.000000   1728.000000  \n",
      "mean      2.000000      1.414931  \n",
      "std       0.816733      0.740700  \n",
      "min       1.000000      1.000000  \n",
      "25%       1.000000      1.000000  \n",
      "50%       2.000000      1.000000  \n",
      "75%       3.000000      2.000000  \n",
      "max       3.000000      4.000000  \n",
      "\n"
     ]
    },
    {
     "data": {
      "image/png": "[encoded data removed]",
      "text/plain": [
       "<Figure size 432x288 with 9 Axes>"
      ]
     },
     "metadata": {
      "needs_background": "light"
     },
     "output_type": "display_data"
    }
   ],
   "source": [
    "print(\"Dataset description\\n \", dataset_car.describe())\n",
    "print()\n",
    "\n",
    "dataset_car.hist(bins=15, color='steelblue', edgecolor='black', linewidth=1.0,xlabelsize=8, ylabelsize=8, grid=False)\n",
    "plt.tight_layout(rect=(0, 0, 1.2, 1.2))"
   ]
  },
  {
   "cell_type": "markdown",
   "metadata": {},
   "source": [
    "### Attribute and class plotting examples"
   ]
  },
  {
   "cell_type": "code",
   "execution_count": 6,
   "metadata": {},
   "outputs": [
    {
     "data": {
      "image/png": "[encoded data removed]",
      "text/plain": [
       "<Figure size 432x288 with 1 Axes>"
      ]
     },
     "metadata": {
      "needs_background": "light"
     },
     "output_type": "display_data"
    }
   ],
   "source": [
    "labels_car = dataset_car.as_matrix(columns=[dataset_car.columns[-1]]) # Y\n",
    "attributes_car = dataset_car.as_matrix(columns=dataset_car.columns[0:6]) # X\n",
    "labels_car = labels_car.reshape(labels_car.size)\n",
    "\n",
    "plt.scatter(attributes_car[labels_car==1, 0],attributes_car[labels_car==1,1], color='red', marker='^', alpha=0.8)\n",
    "plt.scatter(attributes_car[labels_car==2, 0],attributes_car[labels_car==2,1], color='blue', marker='o', alpha=0.8)\n",
    "plt.scatter(attributes_car[labels_car==3, 0],attributes_car[labels_car==3,1], color='green', marker='*', alpha=0.8)\n",
    "plt.scatter(attributes_car[labels_car==4, 0],attributes_car[labels_car==4,1], color='yellow', marker='X', alpha=0.8)\n",
    "plt.xlabel(\"Buying feature\")\n",
    "plt.ylabel(\"Maint feature\")\n",
    "plt.legend([\"unacc\", \"acc\", \"good\", \"vgood\"])\n",
    "plt.grid()\n",
    "plt.show()"
   ]
  },
  {
   "cell_type": "code",
   "execution_count": 7,
   "metadata": {},
   "outputs": [
    {
     "data": {
      "image/png": "[encoded data removed]",
      "text/plain": [
       "<Figure size 432x288 with 1 Axes>"
      ]
     },
     "metadata": {
      "needs_background": "light"
     },
     "output_type": "display_data"
    }
   ],
   "source": [
    "plt.scatter(attributes_car[labels_car==1, 2],attributes_car[labels_car==1,3], color='red', marker='^', alpha=0.8)\n",
    "plt.scatter(attributes_car[labels_car==2, 2],attributes_car[labels_car==2,3], color='blue', marker='o', alpha=0.8)\n",
    "plt.scatter(attributes_car[labels_car==3, 2],attributes_car[labels_car==3,3], color='green', marker='*', alpha=0.8)\n",
    "plt.scatter(attributes_car[labels_car==4, 2],attributes_car[labels_car==4,3], color='yellow', marker='X', alpha=0.8)\n",
    "plt.xlabel(\"Doors feature\")\n",
    "plt.ylabel(\"Persons feature\")\n",
    "plt.legend([\"unacc\", \"acc\", \"good\", \"vgood\"])\n",
    "plt.grid()\n",
    "plt.show()"
   ]
  },
  {
   "cell_type": "markdown",
   "metadata": {},
   "source": [
    "### Correlation matrix heatmap"
   ]
  },
  {
   "cell_type": "code",
   "execution_count": 102,
   "metadata": {},
   "outputs": [
    {
     "data": {
      "image/png": "[encoded data removed]",
      "text/plain": [
       "<Figure size 720x432 with 2 Axes>"
      ]
     },
     "metadata": {
      "needs_background": "light"
     },
     "output_type": "display_data"
    }
   ],
   "source": [
    "import seaborn as sns\n",
    "\n",
    "# Correlation Matrix Heatmap\n",
    "f, ax = plt.subplots(figsize=(10, 6))\n",
    "corr = dataset_car.corr()\n",
    "hm = sns.heatmap(round(corr,2), annot=True, ax=ax, cmap=\"coolwarm\",fmt='.2f',linewidths=.05)\n",
    "f.subplots_adjust(top=0.93)\n",
    "t= f.suptitle('Car Attributes Correlation Heatmap', fontsize=14)"
   ]
  },
  {
   "cell_type": "markdown",
   "metadata": {},
   "source": [
    "### Feature ranking (Shapiro-Wilk)"
   ]
  },
  {
   "cell_type": "code",
   "execution_count": 8,
   "metadata": {},
   "outputs": [
    {
     "data": {
      "image/png": "[encoded data removed]",
      "text/plain": [
       "<Figure size 576x396 with 1 Axes>"
      ]
     },
     "metadata": {},
     "output_type": "display_data"
    }
   ],
   "source": [
    "from yellowbrick.features import Rank1D\n",
    "\n",
    "features = list(dataset_car.columns[0:6])\n",
    "\n",
    "# Instantiate the 1D visualizer with the Sharpiro ranking algorithm\n",
    "visualizer = Rank1D(features=features, algorithm='shapiro')\n",
    "visualizer.fit(attributes_car, labels_car)\t# Fit the data to the visualizer\n",
    "visualizer.transform(attributes_car)\t# Transform the data\n",
    "visualizer.poof()"
   ]
  },
  {
   "cell_type": "markdown",
   "metadata": {},
   "source": [
    "### Feature scaling"
   ]
  },
  {
   "cell_type": "code",
   "execution_count": 9,
   "metadata": {},
   "outputs": [],
   "source": [
    "from sklearn.preprocessing import StandardScaler\n",
    "import warnings\n",
    "from sklearn.exceptions import DataConversionWarning\n",
    "warnings.filterwarnings(action='ignore', category=DataConversionWarning)\n",
    "\n",
    "sc = StandardScaler()\n",
    "sc.fit(attributes_car)\n",
    "X_train_std = sc.transform(attributes_car)"
   ]
  },
  {
   "cell_type": "markdown",
   "metadata": {},
   "source": [
    "## Task B: Car Model training "
   ]
  },
  {
   "cell_type": "markdown",
   "metadata": {},
   "source": [
    "- [Dataset partition](#Dataset-partition)\n",
    "- [SVM classfiers](#SVM-classifiers)\n",
    "    - [SVM linear kernel](#SVM-linear-kernel)\n",
    "    - [SVM polynomial kernel](#SVM-polynomial-kernel)\n",
    "    - [SVM rbf kernel](#SVM-rbf-kernel)\n",
    "    - [SVM sigmoid kernel](#SVM-sigmoid-kernel)\n",
    "- [Multi-layer Perceptron](#Multi-layer-Perceptron)\n",
    "- [K-Nearest Neighbors](#K-Nearest-Neighbors)\n",
    "- [Decision tree](#Decision-tree)\n",
    "- [Random forest](#Random-forest)\n",
    "- [Gradient boosting](#Gradient-boosting)\n",
    "- [Preliminary results](#Preliminary-results)"
   ]
  },
  {
   "cell_type": "markdown",
   "metadata": {},
   "source": [
    "### Dataset partition"
   ]
  },
  {
   "cell_type": "code",
   "execution_count": 10,
   "metadata": {},
   "outputs": [],
   "source": [
    "from sklearn.model_selection import train_test_split\n",
    "#holdout dataset partition\n",
    "# 70% of dataset used for training the model\n",
    "# 30% of dataset used to test the model\n",
    "test_frac = 0.3\n",
    "X_train,X_test,Y_train,Y_test = train_test_split(X_train_std,labels_car, test_size = test_frac)"
   ]
  },
  {
   "cell_type": "markdown",
   "metadata": {},
   "source": [
    "### SVM classifiers"
   ]
  },
  {
   "cell_type": "markdown",
   "metadata": {},
   "source": [
    "#### SVM linear kernel"
   ]
  },
  {
   "cell_type": "code",
   "execution_count": 11,
   "metadata": {},
   "outputs": [
    {
     "name": "stdout",
     "output_type": "stream",
     "text": [
      "Linear SVM Accuracy: 84.78%\n"
     ]
    }
   ],
   "source": [
    "from sklearn.svm import SVC\n",
    "from sklearn.metrics import accuracy_score\n",
    "\n",
    "svc = SVC(kernel='linear', C=1.0)\n",
    "svc.fit(X_train, Y_train)\n",
    "predictions = svc.predict(X_test)\n",
    "svm_lin_score = accuracy_score(Y_test, predictions)\n",
    "print('Linear SVM Accuracy: {:.2%}'.format(svm_lin_score))\n"
   ]
  },
  {
   "cell_type": "markdown",
   "metadata": {},
   "source": [
    "#### SVM polynomial kernel"
   ]
  },
  {
   "cell_type": "code",
   "execution_count": 12,
   "metadata": {},
   "outputs": [
    {
     "name": "stdout",
     "output_type": "stream",
     "text": [
      "Polynomial SVM Accuracy: 68.98%\n"
     ]
    }
   ],
   "source": [
    "svc = SVC(kernel='poly', degree=2, C=1.0)\n",
    "svc.fit(X_train, Y_train)\n",
    "predictions = svc.predict(X_test)\n",
    "svm_poly_score = accuracy_score(Y_test, predictions)\n",
    "print('Polynomial SVM Accuracy: {:.2%}'.format(svm_poly_score))"
   ]
  },
  {
   "cell_type": "markdown",
   "metadata": {},
   "source": [
    "#### SVM rbf kernel"
   ]
  },
  {
   "cell_type": "code",
   "execution_count": 13,
   "metadata": {},
   "outputs": [
    {
     "name": "stdout",
     "output_type": "stream",
     "text": [
      "RBF SVM Accuracy: 95.18%\n"
     ]
    }
   ],
   "source": [
    "svc = SVC(kernel='rbf', C=1.0)\n",
    "svc.fit(X_train, Y_train)\n",
    "predictions = svc.predict(X_test)\n",
    "svm_rbf_score = accuracy_score(Y_test, predictions)\n",
    "print('RBF SVM Accuracy: {:.2%}'.format(svm_rbf_score))"
   ]
  },
  {
   "cell_type": "markdown",
   "metadata": {},
   "source": [
    "#### SVM sigmoid kernel"
   ]
  },
  {
   "cell_type": "code",
   "execution_count": 14,
   "metadata": {},
   "outputs": [
    {
     "name": "stdout",
     "output_type": "stream",
     "text": [
      "Sigmoid SVM Accuracy: 71.68%\n"
     ]
    }
   ],
   "source": [
    "svc = SVC(kernel='sigmoid', C=1.0)\n",
    "svc.fit(X_train, Y_train)\n",
    "predictions = svc.predict(X_test)\n",
    "svm_sigm_score = accuracy_score(Y_test, predictions)\n",
    "print('Sigmoid SVM Accuracy: {:.2%}'.format(svm_sigm_score))"
   ]
  },
  {
   "cell_type": "markdown",
   "metadata": {},
   "source": [
    "### Multi-layer Perceptron"
   ]
  },
  {
   "cell_type": "code",
   "execution_count": 15,
   "metadata": {},
   "outputs": [
    {
     "name": "stdout",
     "output_type": "stream",
     "text": [
      "MLP Accuracy: 96.92%\n"
     ]
    }
   ],
   "source": [
    "from sklearn.neural_network import MLPClassifier\n",
    "\n",
    "mlp = MLPClassifier(activation='tanh', hidden_layer_sizes=(10,5),alpha=0.01, max_iter=5000)\n",
    "mlp.fit(X_train, Y_train)\n",
    "predictions = mlp.predict(X_test)\n",
    "mlp_score = accuracy_score(Y_test, predictions)\n",
    "print('MLP Accuracy: {:.2%}'.format(mlp_score))"
   ]
  },
  {
   "cell_type": "markdown",
   "metadata": {},
   "source": [
    "### K-Nearest Neighbors "
   ]
  },
  {
   "cell_type": "code",
   "execution_count": 16,
   "metadata": {},
   "outputs": [
    {
     "name": "stdout",
     "output_type": "stream",
     "text": [
      "KNN Accuracy: 91.91%\n"
     ]
    }
   ],
   "source": [
    "from sklearn.neighbors import KNeighborsClassifier\n",
    "\n",
    "knn = KNeighborsClassifier()\n",
    "knn.fit(X_train, Y_train)\n",
    "KNeighborsClassifier(algorithm='auto', leaf_size=30, metric='minkowski', metric_params=None, n_jobs=1, n_neighbors=5, p=2, weights='uniform')\n",
    "predictions = knn.predict(X_test)\n",
    "knn_score = accuracy_score(Y_test, predictions)\n",
    "print(\"KNN Accuracy: {:.2%}\".format(knn_score))"
   ]
  },
  {
   "cell_type": "markdown",
   "metadata": {},
   "source": [
    "### Decision tree"
   ]
  },
  {
   "cell_type": "code",
   "execution_count": 17,
   "metadata": {},
   "outputs": [
    {
     "name": "stdout",
     "output_type": "stream",
     "text": [
      "Decision Tree Accuracy: 97.11%\n"
     ]
    }
   ],
   "source": [
    "from sklearn import tree\n",
    "\n",
    "tree = tree.DecisionTreeClassifier(criterion='gini')\n",
    "tree.fit(X_train,Y_train)\n",
    "tree_score = tree.score(X_test,Y_test)\n",
    "print('Decision Tree Accuracy: {:.2%}'.format(tree_score))"
   ]
  },
  {
   "cell_type": "markdown",
   "metadata": {},
   "source": [
    "### Random forest"
   ]
  },
  {
   "cell_type": "code",
   "execution_count": 18,
   "metadata": {},
   "outputs": [
    {
     "name": "stdout",
     "output_type": "stream",
     "text": [
      "Random Forest Accuracy: 81.89%\n"
     ]
    }
   ],
   "source": [
    "from sklearn.ensemble import RandomForestClassifier\n",
    "\n",
    "forest = RandomForestClassifier(max_depth=3, min_samples_split=5,n_estimators=10, max_features='log2', oob_score=False)\t\n",
    "forest.fit(X_train,Y_train)\n",
    "rf_score = forest.score(X_test,Y_test)\n",
    "print('Random Forest Accuracy: {:.2%}'.format(rf_score))"
   ]
  },
  {
   "cell_type": "markdown",
   "metadata": {},
   "source": [
    "### Gradient boosting"
   ]
  },
  {
   "cell_type": "code",
   "execution_count": 19,
   "metadata": {},
   "outputs": [
    {
     "name": "stdout",
     "output_type": "stream",
     "text": [
      "Gradient Boosting Accuracy: 91.91%\n"
     ]
    }
   ],
   "source": [
    "from sklearn.ensemble import GradientBoostingClassifier\n",
    "\n",
    "clf = GradientBoostingClassifier(n_estimators=100, learning_rate=1.0,max_depth=1, random_state=0)\n",
    "clf.fit(X_train, Y_train)\n",
    "gb_score = clf.score(X_test, Y_test)  \n",
    "print('Gradient Boosting Accuracy: {:.2%}'.format(gb_score))"
   ]
  },
  {
   "cell_type": "markdown",
   "metadata": {},
   "source": [
    "### Preliminary results"
   ]
  },
  {
   "cell_type": "code",
   "execution_count": 65,
   "metadata": {},
   "outputs": [
    {
     "data": {
      "text/html": [
       "<table><tr><td>Classifier</td><td>Accuracy results</td></tr><tr><td>SVM Linear</td><td>0.847784200385</td></tr><tr><td>SVM Polynomial</td><td>0.68978805395</td></tr><tr><td>SVM RBF</td><td>0.95183044316</td></tr><tr><td>SVM Sigmoid</td><td>0.71676300578</td></tr><tr><td>MLP</td><td>0.969171483622</td></tr><tr><td>KNN</td><td>0.919075144509</td></tr><tr><td>Decision tree</td><td>0.971098265896</td></tr><tr><td>Random forest</td><td>0.818882466281</td></tr><tr><td>Gradient boosting</td><td>0.919075144509</td></tr></table>"
      ],
      "text/plain": [
       "<IPython.core.display.HTML object>"
      ]
     },
     "metadata": {},
     "output_type": "display_data"
    }
   ],
   "source": [
    "from IPython.display import HTML, display\n",
    "\n",
    "data = [['Classifier','Accuracy results'],\n",
    "        ['SVM Linear', svm_lin_score],\n",
    "        ['SVM Polynomial',svm_poly_score],\n",
    "        ['SVM RBF',svm_rbf_score],\n",
    "        ['SVM Sigmoid',svm_sigm_score],\n",
    "        ['MLP', mlp_score],\n",
    "        ['KNN', knn_score,],\n",
    "        ['Decision tree', tree_score],\n",
    "        ['Random forest', rf_score],\n",
    "        ['Gradient boosting', gb_score]]\n",
    "\n",
    "display(HTML(\n",
    "    '<table><tr>{}</tr></table>'.format(\n",
    "        '</tr><tr>'.join(\n",
    "            '<td>{}</td>'.format('</td><td>'.join(str(_) for _ in row)) for row in data)\n",
    ")))"
   ]
  },
  {
   "cell_type": "markdown",
   "metadata": {},
   "source": [
    "# Dataset 2 : White wine quality dataset"
   ]
  },
  {
   "cell_type": "markdown",
   "metadata": {},
   "source": [
    "## Task A: Wine Pre-processing "
   ]
  },
  {
   "cell_type": "markdown",
   "metadata": {},
   "source": [
    "- [Wine CSV's File Reading](#Wine-CSV's-File-Reading)\n",
    "- [Wine Attributes and classes sample values](#Wine-Attributes-and-classes-sample-values)\n",
    "- [Wine Class distribution visualization](#Wine-Class-distribution-visualization)\n",
    "- [Wine Dataset detailed description](#Wine-Dataset-detailed-description)\n",
    "- [Wine Attribute and class plotting examples](#Wine-Attribute-and-class-plotting-examples)\n",
    "- [Wine Feature ranking (Shapiro-Wilk)](#Wine-Feature-ranking-(Shapiro-Wilk))\n",
    "- [Wine feature scaling](#Wine-feature-scaling)\n",
    "- [Wine dimension reduction](#Wine-dimension-reduction)\n",
    "    - [Principal Component Analysis (PCA)](#Principal-Component-Analysis-(PCA))\n",
    "    - [Kernel PCA](#Kernel-PCA)"
   ]
  },
  {
   "cell_type": "markdown",
   "metadata": {},
   "source": [
    "### Wine CSV's File Reading"
   ]
  },
  {
   "cell_type": "code",
   "execution_count": 66,
   "metadata": {},
   "outputs": [],
   "source": [
    "# Load dataframes from data set CSV files\n",
    "dataset_white = pd.read_csv('./white_wine.csv') # numerical: https://archive.ics.uci.edu/ml/datasets/Wine+Quality"
   ]
  },
  {
   "cell_type": "markdown",
   "metadata": {},
   "source": [
    "### Wine Attributes and classes sample values"
   ]
  },
  {
   "cell_type": "code",
   "execution_count": 67,
   "metadata": {},
   "outputs": [
    {
     "data": {
      "text/html": [
       "<div>\n",
       "<style scoped>\n",
       "    .dataframe tbody tr th:only-of-type {\n",
       "        vertical-align: middle;\n",
       "    }\n",
       "\n",
       "    .dataframe tbody tr th {\n",
       "        vertical-align: top;\n",
       "    }\n",
       "\n",
       "    .dataframe thead th {\n",
       "        text-align: right;\n",
       "    }\n",
       "</style>\n",
       "<table border=\"1\" class=\"dataframe\">\n",
       "  <thead>\n",
       "    <tr style=\"text-align: right;\">\n",
       "      <th></th>\n",
       "      <th>fixed acidity</th>\n",
       "      <th>volatile acidity</th>\n",
       "      <th>citric acid</th>\n",
       "      <th>residual sugar</th>\n",
       "      <th>chlorides</th>\n",
       "      <th>free sulfur dioxide</th>\n",
       "      <th>total sulfur dioxide</th>\n",
       "      <th>density</th>\n",
       "      <th>pH</th>\n",
       "      <th>sulphates</th>\n",
       "      <th>alcohol</th>\n",
       "      <th>quality</th>\n",
       "    </tr>\n",
       "  </thead>\n",
       "  <tbody>\n",
       "    <tr>\n",
       "      <th>0</th>\n",
       "      <td>7.0</td>\n",
       "      <td>0.27</td>\n",
       "      <td>0.36</td>\n",
       "      <td>20.7</td>\n",
       "      <td>0.045</td>\n",
       "      <td>45.0</td>\n",
       "      <td>170.0</td>\n",
       "      <td>1.0010</td>\n",
       "      <td>3.00</td>\n",
       "      <td>0.45</td>\n",
       "      <td>8.8</td>\n",
       "      <td>6</td>\n",
       "    </tr>\n",
       "    <tr>\n",
       "      <th>1</th>\n",
       "      <td>6.3</td>\n",
       "      <td>0.30</td>\n",
       "      <td>0.34</td>\n",
       "      <td>1.6</td>\n",
       "      <td>0.049</td>\n",
       "      <td>14.0</td>\n",
       "      <td>132.0</td>\n",
       "      <td>0.9940</td>\n",
       "      <td>3.30</td>\n",
       "      <td>0.49</td>\n",
       "      <td>9.5</td>\n",
       "      <td>6</td>\n",
       "    </tr>\n",
       "    <tr>\n",
       "      <th>2</th>\n",
       "      <td>8.1</td>\n",
       "      <td>0.28</td>\n",
       "      <td>0.40</td>\n",
       "      <td>6.9</td>\n",
       "      <td>0.050</td>\n",
       "      <td>30.0</td>\n",
       "      <td>97.0</td>\n",
       "      <td>0.9951</td>\n",
       "      <td>3.26</td>\n",
       "      <td>0.44</td>\n",
       "      <td>10.1</td>\n",
       "      <td>6</td>\n",
       "    </tr>\n",
       "    <tr>\n",
       "      <th>3</th>\n",
       "      <td>7.2</td>\n",
       "      <td>0.23</td>\n",
       "      <td>0.32</td>\n",
       "      <td>8.5</td>\n",
       "      <td>0.058</td>\n",
       "      <td>47.0</td>\n",
       "      <td>186.0</td>\n",
       "      <td>0.9956</td>\n",
       "      <td>3.19</td>\n",
       "      <td>0.40</td>\n",
       "      <td>9.9</td>\n",
       "      <td>6</td>\n",
       "    </tr>\n",
       "    <tr>\n",
       "      <th>4</th>\n",
       "      <td>7.2</td>\n",
       "      <td>0.23</td>\n",
       "      <td>0.32</td>\n",
       "      <td>8.5</td>\n",
       "      <td>0.058</td>\n",
       "      <td>47.0</td>\n",
       "      <td>186.0</td>\n",
       "      <td>0.9956</td>\n",
       "      <td>3.19</td>\n",
       "      <td>0.40</td>\n",
       "      <td>9.9</td>\n",
       "      <td>6</td>\n",
       "    </tr>\n",
       "  </tbody>\n",
       "</table>\n",
       "</div>"
      ],
      "text/plain": [
       "   fixed acidity  volatile acidity  citric acid  residual sugar  chlorides  \\\n",
       "0            7.0              0.27         0.36            20.7      0.045   \n",
       "1            6.3              0.30         0.34             1.6      0.049   \n",
       "2            8.1              0.28         0.40             6.9      0.050   \n",
       "3            7.2              0.23         0.32             8.5      0.058   \n",
       "4            7.2              0.23         0.32             8.5      0.058   \n",
       "\n",
       "   free sulfur dioxide  total sulfur dioxide  density    pH  sulphates  \\\n",
       "0                 45.0                 170.0   1.0010  3.00       0.45   \n",
       "1                 14.0                 132.0   0.9940  3.30       0.49   \n",
       "2                 30.0                  97.0   0.9951  3.26       0.44   \n",
       "3                 47.0                 186.0   0.9956  3.19       0.40   \n",
       "4                 47.0                 186.0   0.9956  3.19       0.40   \n",
       "\n",
       "   alcohol  quality  \n",
       "0      8.8        6  \n",
       "1      9.5        6  \n",
       "2     10.1        6  \n",
       "3      9.9        6  \n",
       "4      9.9        6  "
      ]
     },
     "execution_count": 67,
     "metadata": {},
     "output_type": "execute_result"
    }
   ],
   "source": [
    "dataset_white.head() # shows only the first 5 instances on the data set"
   ]
  },
  {
   "cell_type": "markdown",
   "metadata": {},
   "source": [
    "### Wine Class distribution visualization"
   ]
  },
  {
   "cell_type": "code",
   "execution_count": 71,
   "metadata": {},
   "outputs": [
    {
     "data": {
      "image/png": "[encoded data removed]",
      "text/plain": [
       "<Figure size 432x288 with 1 Axes>"
      ]
     },
     "metadata": {
      "needs_background": "light"
     },
     "output_type": "display_data"
    }
   ],
   "source": [
    "plt.hist(dataset_white['quality'])\n",
    "plt.title('Wine dataset class distribution')\n",
    "plt.show()"
   ]
  },
  {
   "cell_type": "markdown",
   "metadata": {},
   "source": [
    "### Wine Dataset detailed description"
   ]
  },
  {
   "cell_type": "code",
   "execution_count": 77,
   "metadata": {},
   "outputs": [
    {
     "name": "stdout",
     "output_type": "stream",
     "text": [
      "Dataset description\n",
      "         fixed acidity  volatile acidity  citric acid  residual sugar  \\\n",
      "count    4898.000000       4898.000000  4898.000000     4898.000000   \n",
      "mean        6.854788          0.278241     0.334192        6.391415   \n",
      "std         0.843868          0.100795     0.121020        5.072058   \n",
      "min         3.800000          0.080000     0.000000        0.600000   \n",
      "25%         6.300000          0.210000     0.270000        1.700000   \n",
      "50%         6.800000          0.260000     0.320000        5.200000   \n",
      "75%         7.300000          0.320000     0.390000        9.900000   \n",
      "max        14.200000          1.100000     1.660000       65.800000   \n",
      "\n",
      "         chlorides  free sulfur dioxide  total sulfur dioxide      density  \\\n",
      "count  4898.000000          4898.000000           4898.000000  4898.000000   \n",
      "mean      0.045772            35.308085            138.360657     0.994027   \n",
      "std       0.021848            17.007137             42.498065     0.002991   \n",
      "min       0.009000             2.000000              9.000000     0.987110   \n",
      "25%       0.036000            23.000000            108.000000     0.991723   \n",
      "50%       0.043000            34.000000            134.000000     0.993740   \n",
      "75%       0.050000            46.000000            167.000000     0.996100   \n",
      "max       0.346000           289.000000            440.000000     1.038980   \n",
      "\n",
      "                pH    sulphates      alcohol      quality  \n",
      "count  4898.000000  4898.000000  4898.000000  4898.000000  \n",
      "mean      3.188267     0.489847    10.514267     5.877909  \n",
      "std       0.151001     0.114126     1.230621     0.885639  \n",
      "min       2.720000     0.220000     8.000000     3.000000  \n",
      "25%       3.090000     0.410000     9.500000     5.000000  \n",
      "50%       3.180000     0.470000    10.400000     6.000000  \n",
      "75%       3.280000     0.550000    11.400000     6.000000  \n",
      "max       3.820000     1.080000    14.200000     9.000000  \n",
      "\n"
     ]
    },
    {
     "data": {
      "image/png": "[encoded data removed]",
      "text/plain": [
       "<Figure size 432x288 with 12 Axes>"
      ]
     },
     "metadata": {
      "needs_background": "light"
     },
     "output_type": "display_data"
    }
   ],
   "source": [
    "print(\"Dataset description\\n \", dataset_white.describe())\n",
    "print()\n",
    "\n",
    "dataset_white.hist(bins=15, color='steelblue', edgecolor='black', linewidth=1.0,xlabelsize=8, ylabelsize=8, grid=False)\n",
    "plt.tight_layout(rect=(0, 0, 1.2, 1.2))"
   ]
  },
  {
   "cell_type": "markdown",
   "metadata": {},
   "source": [
    "### Wine Attribute and class plotting examples"
   ]
  },
  {
   "cell_type": "code",
   "execution_count": 109,
   "metadata": {},
   "outputs": [
    {
     "name": "stderr",
     "output_type": "stream",
     "text": [
      "c:\\users\\utilizador\\appdata\\local\\programs\\python\\python36\\lib\\site-packages\\seaborn\\axisgrid.py:2065: UserWarning: The `size` parameter has been renamed to `height`; pleaes update your code.\n",
      "  warnings.warn(msg, UserWarning)\n"
     ]
    },
    {
     "data": {
      "image/png": "[encoded data removed]",
      "text/plain": [
       "<Figure size 933.12x518.4 with 20 Axes>"
      ]
     },
     "metadata": {
      "needs_background": "light"
     },
     "output_type": "display_data"
    }
   ],
   "source": [
    "labels_wine = dataset_white.as_matrix(columns=[dataset_white.columns[-1]]) # Y\n",
    "attributes_wine = dataset_white.as_matrix(columns=dataset_white.columns[0:10]) # X\n",
    "labels_wine = labels_wine.reshape(labels_wine.size)\n",
    "\n",
    "# Pair-wise Scatter Plots\n",
    "cols = ['density', 'residual sugar', 'total sulfur dioxide', 'fixed acidity']\n",
    "pp = sns.pairplot(dataset_white[cols], size=1.8, aspect=1.8,\n",
    "                  plot_kws=dict(edgecolor=\"k\", linewidth=0.5),\n",
    "                  diag_kind=\"kde\", diag_kws=dict(shade=True))\n",
    "\n",
    "fig = pp.fig \n",
    "fig.subplots_adjust(top=0.93, wspace=0.3)\n",
    "t = fig.suptitle('Wine Attributes Pairwise Plots', fontsize=14)"
   ]
  },
  {
   "cell_type": "markdown",
   "metadata": {},
   "source": [
    "### Correlation matrix heatmap"
   ]
  },
  {
   "cell_type": "code",
   "execution_count": 108,
   "metadata": {},
   "outputs": [
    {
     "data": {
      "image/png": "[encoded data removed]",
      "text/plain": [
       "<Figure size 720x432 with 2 Axes>"
      ]
     },
     "metadata": {
      "needs_background": "light"
     },
     "output_type": "display_data"
    }
   ],
   "source": [
    "# Correlation Matrix Heatmap\n",
    "f, ax = plt.subplots(figsize=(10, 6))\n",
    "corr = dataset_white.corr()\n",
    "hm = sns.heatmap(round(corr,2), annot=True, ax=ax, cmap=\"coolwarm\",fmt='.2f',linewidths=.05)\n",
    "f.subplots_adjust(top=0.93)\n",
    "t= f.suptitle('Wine Attributes Correlation Heatmap', fontsize=14)"
   ]
  },
  {
   "cell_type": "markdown",
   "metadata": {},
   "source": [
    "### Wine Feature ranking (Shapiro-Wilk)"
   ]
  },
  {
   "cell_type": "code",
   "execution_count": 104,
   "metadata": {},
   "outputs": [
    {
     "data": {
      "image/png": "[encoded data removed]",
      "text/plain": [
       "<Figure size 432x288 with 1 Axes>"
      ]
     },
     "metadata": {
      "needs_background": "light"
     },
     "output_type": "display_data"
    }
   ],
   "source": [
    "features = list(dataset_white.columns[0:10])\n",
    "# Instantiate the 1D visualizer with the Sharpiro ranking algorithm\n",
    "visualizer = Rank1D(features=features, algorithm='shapiro')\n",
    "visualizer.fit(attributes_wine, labels_wine)\t# Fit the data to the visualizer\n",
    "visualizer.transform(attributes_wine)\t# Transform the data\n",
    "visualizer.poof()"
   ]
  },
  {
   "cell_type": "markdown",
   "metadata": {},
   "source": [
    "### Wine feature scaling"
   ]
  },
  {
   "cell_type": "code",
   "execution_count": 113,
   "metadata": {},
   "outputs": [],
   "source": [
    "sc = StandardScaler()\n",
    "sc.fit(attributes_wine)\n",
    "X_train_std = sc.transform(attributes_wine)"
   ]
  },
  {
   "cell_type": "markdown",
   "metadata": {},
   "source": [
    "### Wine dimension reduction"
   ]
  },
  {
   "cell_type": "markdown",
   "metadata": {},
   "source": [
    "#### Principal Component Analysis (PCA)"
   ]
  },
  {
   "cell_type": "markdown",
   "metadata": {},
   "source": [
    "#### Kernel PCA"
   ]
  },
  {
   "cell_type": "markdown",
   "metadata": {},
   "source": [
    "## Task B: Wine Model Training"
   ]
  },
  {
   "cell_type": "markdown",
   "metadata": {},
   "source": [
    "- [Dataset partition](#Dataset-partition)\n",
    "- [SVM classfiers](#SVM-classifiers)\n",
    "    - [SVM linear kernel](#SVM-linear-kernel)\n",
    "    - [SVM polynomial kernel](#SVM-polynomial-kernel)\n",
    "    - [SVM rbf kernel](#SVM-rbf-kernel)\n",
    "    - [SVM sigmoid kernel](#SVM-sigmoid-kernel)\n",
    "- [Multi-layer Perceptron](#Multi-layer-Perceptron)\n",
    "- [K-Nearest Neighbors](#K-Nearest-Neighbors)\n",
    "- [Decision tree](#Decision-tree)\n",
    "- [Random forest](#Random-forest)\n",
    "- [Gradient boosting](#Gradient-boosting)\n",
    "- [Preliminary results](#Preliminary-results)"
   ]
  },
  {
   "cell_type": "markdown",
   "metadata": {},
   "source": [
    "## CSV's File Reading"
   ]
  },
  {
   "cell_type": "code",
   "execution_count": 20,
   "metadata": {},
   "outputs": [],
   "source": [
    "import os\n",
    "import pandas as pd\n",
    "from pandas import DataFrame\n",
    "\n",
    "#Disable warning\n",
    "import warnings\n",
    "warnings.filterwarnings(\"ignore\", category=FutureWarning)\n",
    "warnings.filterwarnings(\"ignore\", category=DeprecationWarning)\n",
    "\n",
    "'''\n",
    "# gets current working directory\n",
    "cwd = os.getcwd()\n",
    "# splits cwd by Data_Mining/\n",
    "dm = cwd.split('Data_Mining/')\n",
    "# datasets path\n",
    "datasets_path = dm[0] + \"Data_Mining/Datasets/\"\n",
    "\n",
    "# Assign spreadsheet filename to 'car_path' and 'white_path'\n",
    "car_path = (datasets_path + \"car.csv\") \n",
    "white_path = (datasets_path + \"white_wine.csv\") # \n",
    "\n",
    "dataset_car = pd.read_csv(car_path) \n",
    "dataset_white = pd.read_csv(white_path) \n",
    "'''\n",
    "\n",
    "# Load dataframes from data set CSV files\n",
    "try:\n",
    "    dataset_car = pd.read_csv('./car.csv') # categorical: https://archive.ics.uci.edu/ml/datasets/Car+Evaluation\n",
    "    dataset_white = pd.read_csv('./white_wine.csv') # numerical: https://archive.ics.uci.edu/ml/datasets/Wine+Quality\n",
    "except Exception as ex:\n",
    "    print(\"Error while opening the file\\n\\t{}\".format(ex))"
   ]
  },
  {
   "cell_type": "markdown",
   "metadata": {},
   "source": [
    "Car dataset attributes sample"
   ]
  },
  {
   "cell_type": "code",
   "execution_count": 21,
   "metadata": {},
   "outputs": [
    {
     "data": {
      "text/html": [
       "<div>\n",
       "<style scoped>\n",
       "    .dataframe tbody tr th:only-of-type {\n",
       "        vertical-align: middle;\n",
       "    }\n",
       "\n",
       "    .dataframe tbody tr th {\n",
       "        vertical-align: top;\n",
       "    }\n",
       "\n",
       "    .dataframe thead th {\n",
       "        text-align: right;\n",
       "    }\n",
       "</style>\n",
       "<table border=\"1\" class=\"dataframe\">\n",
       "  <thead>\n",
       "    <tr style=\"text-align: right;\">\n",
       "      <th></th>\n",
       "      <th>buying</th>\n",
       "      <th>maint</th>\n",
       "      <th>doors</th>\n",
       "      <th>persons</th>\n",
       "      <th>lug_boot</th>\n",
       "      <th>safety</th>\n",
       "      <th>class values</th>\n",
       "    </tr>\n",
       "  </thead>\n",
       "  <tbody>\n",
       "    <tr>\n",
       "      <th>0</th>\n",
       "      <td>vhigh</td>\n",
       "      <td>vhigh</td>\n",
       "      <td>2</td>\n",
       "      <td>2</td>\n",
       "      <td>small</td>\n",
       "      <td>low</td>\n",
       "      <td>unacc</td>\n",
       "    </tr>\n",
       "    <tr>\n",
       "      <th>1</th>\n",
       "      <td>vhigh</td>\n",
       "      <td>vhigh</td>\n",
       "      <td>2</td>\n",
       "      <td>2</td>\n",
       "      <td>small</td>\n",
       "      <td>med</td>\n",
       "      <td>unacc</td>\n",
       "    </tr>\n",
       "    <tr>\n",
       "      <th>2</th>\n",
       "      <td>vhigh</td>\n",
       "      <td>vhigh</td>\n",
       "      <td>2</td>\n",
       "      <td>2</td>\n",
       "      <td>small</td>\n",
       "      <td>high</td>\n",
       "      <td>unacc</td>\n",
       "    </tr>\n",
       "    <tr>\n",
       "      <th>3</th>\n",
       "      <td>vhigh</td>\n",
       "      <td>vhigh</td>\n",
       "      <td>2</td>\n",
       "      <td>2</td>\n",
       "      <td>med</td>\n",
       "      <td>low</td>\n",
       "      <td>unacc</td>\n",
       "    </tr>\n",
       "    <tr>\n",
       "      <th>4</th>\n",
       "      <td>vhigh</td>\n",
       "      <td>vhigh</td>\n",
       "      <td>2</td>\n",
       "      <td>2</td>\n",
       "      <td>med</td>\n",
       "      <td>med</td>\n",
       "      <td>unacc</td>\n",
       "    </tr>\n",
       "  </tbody>\n",
       "</table>\n",
       "</div>"
      ],
      "text/plain": [
       "  buying  maint doors persons lug_boot safety class values\n",
       "0  vhigh  vhigh     2       2    small    low        unacc\n",
       "1  vhigh  vhigh     2       2    small    med        unacc\n",
       "2  vhigh  vhigh     2       2    small   high        unacc\n",
       "3  vhigh  vhigh     2       2      med    low        unacc\n",
       "4  vhigh  vhigh     2       2      med    med        unacc"
      ]
     },
     "execution_count": 21,
     "metadata": {},
     "output_type": "execute_result"
    }
   ],
   "source": [
    "dataset_car.head() # shows only the first 5 instances on the data set"
   ]
  },
  {
   "cell_type": "markdown",
   "metadata": {},
   "source": [
    "White whine dataset attributes sample"
   ]
  },
  {
   "cell_type": "code",
   "execution_count": 22,
   "metadata": {},
   "outputs": [
    {
     "data": {
      "text/html": [
       "<div>\n",
       "<style scoped>\n",
       "    .dataframe tbody tr th:only-of-type {\n",
       "        vertical-align: middle;\n",
       "    }\n",
       "\n",
       "    .dataframe tbody tr th {\n",
       "        vertical-align: top;\n",
       "    }\n",
       "\n",
       "    .dataframe thead th {\n",
       "        text-align: right;\n",
       "    }\n",
       "</style>\n",
       "<table border=\"1\" class=\"dataframe\">\n",
       "  <thead>\n",
       "    <tr style=\"text-align: right;\">\n",
       "      <th></th>\n",
       "      <th>fixed acidity</th>\n",
       "      <th>volatile acidity</th>\n",
       "      <th>citric acid</th>\n",
       "      <th>residual sugar</th>\n",
       "      <th>chlorides</th>\n",
       "      <th>free sulfur dioxide</th>\n",
       "      <th>total sulfur dioxide</th>\n",
       "      <th>density</th>\n",
       "      <th>pH</th>\n",
       "      <th>sulphates</th>\n",
       "      <th>alcohol</th>\n",
       "      <th>quality</th>\n",
       "    </tr>\n",
       "  </thead>\n",
       "  <tbody>\n",
       "    <tr>\n",
       "      <th>0</th>\n",
       "      <td>7.0</td>\n",
       "      <td>0.27</td>\n",
       "      <td>0.36</td>\n",
       "      <td>20.7</td>\n",
       "      <td>0.045</td>\n",
       "      <td>45.0</td>\n",
       "      <td>170.0</td>\n",
       "      <td>1.0010</td>\n",
       "      <td>3.00</td>\n",
       "      <td>0.45</td>\n",
       "      <td>8.8</td>\n",
       "      <td>6</td>\n",
       "    </tr>\n",
       "    <tr>\n",
       "      <th>1</th>\n",
       "      <td>6.3</td>\n",
       "      <td>0.30</td>\n",
       "      <td>0.34</td>\n",
       "      <td>1.6</td>\n",
       "      <td>0.049</td>\n",
       "      <td>14.0</td>\n",
       "      <td>132.0</td>\n",
       "      <td>0.9940</td>\n",
       "      <td>3.30</td>\n",
       "      <td>0.49</td>\n",
       "      <td>9.5</td>\n",
       "      <td>6</td>\n",
       "    </tr>\n",
       "    <tr>\n",
       "      <th>2</th>\n",
       "      <td>8.1</td>\n",
       "      <td>0.28</td>\n",
       "      <td>0.40</td>\n",
       "      <td>6.9</td>\n",
       "      <td>0.050</td>\n",
       "      <td>30.0</td>\n",
       "      <td>97.0</td>\n",
       "      <td>0.9951</td>\n",
       "      <td>3.26</td>\n",
       "      <td>0.44</td>\n",
       "      <td>10.1</td>\n",
       "      <td>6</td>\n",
       "    </tr>\n",
       "    <tr>\n",
       "      <th>3</th>\n",
       "      <td>7.2</td>\n",
       "      <td>0.23</td>\n",
       "      <td>0.32</td>\n",
       "      <td>8.5</td>\n",
       "      <td>0.058</td>\n",
       "      <td>47.0</td>\n",
       "      <td>186.0</td>\n",
       "      <td>0.9956</td>\n",
       "      <td>3.19</td>\n",
       "      <td>0.40</td>\n",
       "      <td>9.9</td>\n",
       "      <td>6</td>\n",
       "    </tr>\n",
       "    <tr>\n",
       "      <th>4</th>\n",
       "      <td>7.2</td>\n",
       "      <td>0.23</td>\n",
       "      <td>0.32</td>\n",
       "      <td>8.5</td>\n",
       "      <td>0.058</td>\n",
       "      <td>47.0</td>\n",
       "      <td>186.0</td>\n",
       "      <td>0.9956</td>\n",
       "      <td>3.19</td>\n",
       "      <td>0.40</td>\n",
       "      <td>9.9</td>\n",
       "      <td>6</td>\n",
       "    </tr>\n",
       "  </tbody>\n",
       "</table>\n",
       "</div>"
      ],
      "text/plain": [
       "   fixed acidity  volatile acidity  citric acid  residual sugar  chlorides  \\\n",
       "0            7.0              0.27         0.36            20.7      0.045   \n",
       "1            6.3              0.30         0.34             1.6      0.049   \n",
       "2            8.1              0.28         0.40             6.9      0.050   \n",
       "3            7.2              0.23         0.32             8.5      0.058   \n",
       "4            7.2              0.23         0.32             8.5      0.058   \n",
       "\n",
       "   free sulfur dioxide  total sulfur dioxide  density    pH  sulphates  \\\n",
       "0                 45.0                 170.0   1.0010  3.00       0.45   \n",
       "1                 14.0                 132.0   0.9940  3.30       0.49   \n",
       "2                 30.0                  97.0   0.9951  3.26       0.44   \n",
       "3                 47.0                 186.0   0.9956  3.19       0.40   \n",
       "4                 47.0                 186.0   0.9956  3.19       0.40   \n",
       "\n",
       "   alcohol  quality  \n",
       "0      8.8        6  \n",
       "1      9.5        6  \n",
       "2     10.1        6  \n",
       "3      9.9        6  \n",
       "4      9.9        6  "
      ]
     },
     "execution_count": 22,
     "metadata": {},
     "output_type": "execute_result"
    }
   ],
   "source": [
    "dataset_white.head() # shows only the first 5 instances on the data set"
   ]
  },
  {
   "cell_type": "markdown",
   "metadata": {},
   "source": [
    "##  Mapping categorial data into numeric data (Car data set)"
   ]
  },
  {
   "cell_type": "code",
   "execution_count": 23,
   "metadata": {},
   "outputs": [
    {
     "data": {
      "text/html": [
       "<div>\n",
       "<style scoped>\n",
       "    .dataframe tbody tr th:only-of-type {\n",
       "        vertical-align: middle;\n",
       "    }\n",
       "\n",
       "    .dataframe tbody tr th {\n",
       "        vertical-align: top;\n",
       "    }\n",
       "\n",
       "    .dataframe thead th {\n",
       "        text-align: right;\n",
       "    }\n",
       "</style>\n",
       "<table border=\"1\" class=\"dataframe\">\n",
       "  <thead>\n",
       "    <tr style=\"text-align: right;\">\n",
       "      <th></th>\n",
       "      <th>class values_acc</th>\n",
       "      <th>class values_good</th>\n",
       "      <th>class values_unacc</th>\n",
       "      <th>class values_vgood</th>\n",
       "    </tr>\n",
       "  </thead>\n",
       "  <tbody>\n",
       "    <tr>\n",
       "      <th>0</th>\n",
       "      <td>0</td>\n",
       "      <td>0</td>\n",
       "      <td>1</td>\n",
       "      <td>0</td>\n",
       "    </tr>\n",
       "    <tr>\n",
       "      <th>1</th>\n",
       "      <td>0</td>\n",
       "      <td>0</td>\n",
       "      <td>1</td>\n",
       "      <td>0</td>\n",
       "    </tr>\n",
       "    <tr>\n",
       "      <th>2</th>\n",
       "      <td>0</td>\n",
       "      <td>0</td>\n",
       "      <td>1</td>\n",
       "      <td>0</td>\n",
       "    </tr>\n",
       "    <tr>\n",
       "      <th>3</th>\n",
       "      <td>0</td>\n",
       "      <td>0</td>\n",
       "      <td>1</td>\n",
       "      <td>0</td>\n",
       "    </tr>\n",
       "    <tr>\n",
       "      <th>4</th>\n",
       "      <td>0</td>\n",
       "      <td>0</td>\n",
       "      <td>1</td>\n",
       "      <td>0</td>\n",
       "    </tr>\n",
       "  </tbody>\n",
       "</table>\n",
       "</div>"
      ],
      "text/plain": [
       "   class values_acc  class values_good  class values_unacc  class values_vgood\n",
       "0                 0                  0                   1                   0\n",
       "1                 0                  0                   1                   0\n",
       "2                 0                  0                   1                   0\n",
       "3                 0                  0                   1                   0\n",
       "4                 0                  0                   1                   0"
      ]
     },
     "execution_count": 23,
     "metadata": {},
     "output_type": "execute_result"
    }
   ],
   "source": [
    "# https://stackoverflow.com/questions/32011359/convert-categorical-data-in-pandas-dataframe\n",
    "# http://fastml.com/converting-categorical-data-into-numbers-with-pandas-and-scikit-learn/\n",
    "\n",
    "# converts dtype category to binary according 2nd link\n",
    "Y_car = pd.get_dummies(dataset_car[['class values']])\n",
    "Y_car.head() # shows only the first 5 instances on the data set"
   ]
  },
  {
   "cell_type": "code",
   "execution_count": 24,
   "metadata": {},
   "outputs": [
    {
     "data": {
      "text/html": [
       "<div>\n",
       "<style scoped>\n",
       "    .dataframe tbody tr th:only-of-type {\n",
       "        vertical-align: middle;\n",
       "    }\n",
       "\n",
       "    .dataframe tbody tr th {\n",
       "        vertical-align: top;\n",
       "    }\n",
       "\n",
       "    .dataframe thead th {\n",
       "        text-align: right;\n",
       "    }\n",
       "</style>\n",
       "<table border=\"1\" class=\"dataframe\">\n",
       "  <thead>\n",
       "    <tr style=\"text-align: right;\">\n",
       "      <th></th>\n",
       "      <th>buying_high</th>\n",
       "      <th>buying_low</th>\n",
       "      <th>buying_med</th>\n",
       "      <th>buying_vhigh</th>\n",
       "      <th>maint_high</th>\n",
       "      <th>maint_low</th>\n",
       "      <th>maint_med</th>\n",
       "      <th>maint_vhigh</th>\n",
       "      <th>doors_2</th>\n",
       "      <th>doors_3</th>\n",
       "      <th>...</th>\n",
       "      <th>doors_5more</th>\n",
       "      <th>persons_2</th>\n",
       "      <th>persons_4</th>\n",
       "      <th>persons_more</th>\n",
       "      <th>lug_boot_big</th>\n",
       "      <th>lug_boot_med</th>\n",
       "      <th>lug_boot_small</th>\n",
       "      <th>safety_high</th>\n",
       "      <th>safety_low</th>\n",
       "      <th>safety_med</th>\n",
       "    </tr>\n",
       "  </thead>\n",
       "  <tbody>\n",
       "    <tr>\n",
       "      <th>0</th>\n",
       "      <td>0</td>\n",
       "      <td>0</td>\n",
       "      <td>0</td>\n",
       "      <td>1</td>\n",
       "      <td>0</td>\n",
       "      <td>0</td>\n",
       "      <td>0</td>\n",
       "      <td>1</td>\n",
       "      <td>1</td>\n",
       "      <td>0</td>\n",
       "      <td>...</td>\n",
       "      <td>0</td>\n",
       "      <td>1</td>\n",
       "      <td>0</td>\n",
       "      <td>0</td>\n",
       "      <td>0</td>\n",
       "      <td>0</td>\n",
       "      <td>1</td>\n",
       "      <td>0</td>\n",
       "      <td>1</td>\n",
       "      <td>0</td>\n",
       "    </tr>\n",
       "    <tr>\n",
       "      <th>1</th>\n",
       "      <td>0</td>\n",
       "      <td>0</td>\n",
       "      <td>0</td>\n",
       "      <td>1</td>\n",
       "      <td>0</td>\n",
       "      <td>0</td>\n",
       "      <td>0</td>\n",
       "      <td>1</td>\n",
       "      <td>1</td>\n",
       "      <td>0</td>\n",
       "      <td>...</td>\n",
       "      <td>0</td>\n",
       "      <td>1</td>\n",
       "      <td>0</td>\n",
       "      <td>0</td>\n",
       "      <td>0</td>\n",
       "      <td>0</td>\n",
       "      <td>1</td>\n",
       "      <td>0</td>\n",
       "      <td>0</td>\n",
       "      <td>1</td>\n",
       "    </tr>\n",
       "    <tr>\n",
       "      <th>2</th>\n",
       "      <td>0</td>\n",
       "      <td>0</td>\n",
       "      <td>0</td>\n",
       "      <td>1</td>\n",
       "      <td>0</td>\n",
       "      <td>0</td>\n",
       "      <td>0</td>\n",
       "      <td>1</td>\n",
       "      <td>1</td>\n",
       "      <td>0</td>\n",
       "      <td>...</td>\n",
       "      <td>0</td>\n",
       "      <td>1</td>\n",
       "      <td>0</td>\n",
       "      <td>0</td>\n",
       "      <td>0</td>\n",
       "      <td>0</td>\n",
       "      <td>1</td>\n",
       "      <td>1</td>\n",
       "      <td>0</td>\n",
       "      <td>0</td>\n",
       "    </tr>\n",
       "    <tr>\n",
       "      <th>3</th>\n",
       "      <td>0</td>\n",
       "      <td>0</td>\n",
       "      <td>0</td>\n",
       "      <td>1</td>\n",
       "      <td>0</td>\n",
       "      <td>0</td>\n",
       "      <td>0</td>\n",
       "      <td>1</td>\n",
       "      <td>1</td>\n",
       "      <td>0</td>\n",
       "      <td>...</td>\n",
       "      <td>0</td>\n",
       "      <td>1</td>\n",
       "      <td>0</td>\n",
       "      <td>0</td>\n",
       "      <td>0</td>\n",
       "      <td>1</td>\n",
       "      <td>0</td>\n",
       "      <td>0</td>\n",
       "      <td>1</td>\n",
       "      <td>0</td>\n",
       "    </tr>\n",
       "    <tr>\n",
       "      <th>4</th>\n",
       "      <td>0</td>\n",
       "      <td>0</td>\n",
       "      <td>0</td>\n",
       "      <td>1</td>\n",
       "      <td>0</td>\n",
       "      <td>0</td>\n",
       "      <td>0</td>\n",
       "      <td>1</td>\n",
       "      <td>1</td>\n",
       "      <td>0</td>\n",
       "      <td>...</td>\n",
       "      <td>0</td>\n",
       "      <td>1</td>\n",
       "      <td>0</td>\n",
       "      <td>0</td>\n",
       "      <td>0</td>\n",
       "      <td>1</td>\n",
       "      <td>0</td>\n",
       "      <td>0</td>\n",
       "      <td>0</td>\n",
       "      <td>1</td>\n",
       "    </tr>\n",
       "  </tbody>\n",
       "</table>\n",
       "<p>5 rows × 21 columns</p>\n",
       "</div>"
      ],
      "text/plain": [
       "   buying_high  buying_low  buying_med  buying_vhigh  maint_high  maint_low  \\\n",
       "0            0           0           0             1           0          0   \n",
       "1            0           0           0             1           0          0   \n",
       "2            0           0           0             1           0          0   \n",
       "3            0           0           0             1           0          0   \n",
       "4            0           0           0             1           0          0   \n",
       "\n",
       "   maint_med  maint_vhigh  doors_2  doors_3     ...      doors_5more  \\\n",
       "0          0            1        1        0     ...                0   \n",
       "1          0            1        1        0     ...                0   \n",
       "2          0            1        1        0     ...                0   \n",
       "3          0            1        1        0     ...                0   \n",
       "4          0            1        1        0     ...                0   \n",
       "\n",
       "   persons_2  persons_4  persons_more  lug_boot_big  lug_boot_med  \\\n",
       "0          1          0             0             0             0   \n",
       "1          1          0             0             0             0   \n",
       "2          1          0             0             0             0   \n",
       "3          1          0             0             0             1   \n",
       "4          1          0             0             0             1   \n",
       "\n",
       "   lug_boot_small  safety_high  safety_low  safety_med  \n",
       "0               1            0           1           0  \n",
       "1               1            0           0           1  \n",
       "2               1            1           0           0  \n",
       "3               0            0           1           0  \n",
       "4               0            0           0           1  \n",
       "\n",
       "[5 rows x 21 columns]"
      ]
     },
     "execution_count": 24,
     "metadata": {},
     "output_type": "execute_result"
    }
   ],
   "source": [
    "X_car = dataset_car.drop('class values', 1)  \n",
    "X_car = pd.get_dummies(X_car)\n",
    "X_car.head() # shows only the first 5 instances on the data set"
   ]
  },
  {
   "cell_type": "markdown",
   "metadata": {},
   "source": [
    "## Class distribution visualization"
   ]
  },
  {
   "cell_type": "code",
   "execution_count": 25,
   "metadata": {},
   "outputs": [],
   "source": [
    "%matplotlib inline \n",
    "import matplotlib.pyplot as plt \n",
    "\n",
    "## Não estava a conseguir dar plot à distribuição das classes com \n",
    "## o mapeamento que fizeste de cima por isso pus aqui como eu \n",
    "## tinha mapeado os dados para facilitar\n",
    "\n",
    "numeric_map = {\n",
    "\t'buying' : { 'low' : 1, 'med' : 2, 'high' : 3, 'vhigh': 4 },\n",
    "\t'maint' : {'low' : 1, 'med' : 2, 'high' : 3, 'vhigh': 4 },\n",
    "\t'doors' : { '2' : 1, '3' : 2, '4' : 3, '5more' : 4 },\n",
    "\t'persons' : {'2' : 1, '4' : 2, 'more' : 3 },\n",
    "\t'lug_boot' : {'small' : 1,'med': 2, 'big': 3 },\n",
    "\t'safety' : {'low' : 1, 'med' : 2, 'high': 3 }\n",
    "}\n",
    "\n",
    "for m in numeric_map:\n",
    "\tdataset_car[m] = dataset_car[m].map(numeric_map[m])\n",
    "\n",
    "dataset_car['class values'].replace(('unacc','acc','good','vgood'),(1,2,3,4), inplace=True)"
   ]
  },
  {
   "cell_type": "code",
   "execution_count": 26,
   "metadata": {},
   "outputs": [],
   "source": [
    "def visualizeDataHist(dataset, y_label, title):\n",
    "    a = dataset[y_label]\n",
    "    plt.hist(a)\n",
    "    plt.title(title)\n",
    "    plt.show()\n",
    "    #plt.clf()"
   ]
  },
  {
   "cell_type": "code",
   "execution_count": 27,
   "metadata": {},
   "outputs": [
    {
     "data": {
      "image/png": "[encoded data removed]",
      "text/plain": [
       "<Figure size 432x288 with 1 Axes>"
      ]
     },
     "metadata": {
      "needs_background": "light"
     },
     "output_type": "display_data"
    },
    {
     "data": {
      "image/png": "[encoded data removed]",
      "text/plain": [
       "<Figure size 432x288 with 1 Axes>"
      ]
     },
     "metadata": {
      "needs_background": "light"
     },
     "output_type": "display_data"
    }
   ],
   "source": [
    "visualizeDataHist(dataset_car, 'class values', 'Car: Class Distribution')\n",
    "visualizeDataHist(dataset_white, 'quality', 'White Wine: Class Distribution')"
   ]
  },
  {
   "cell_type": "markdown",
   "metadata": {},
   "source": [
    "## Data set detailed description (Car)"
   ]
  },
  {
   "cell_type": "code",
   "execution_count": 28,
   "metadata": {},
   "outputs": [
    {
     "name": "stdout",
     "output_type": "stream",
     "text": [
      "Dataset description\n",
      "              buying        maint        doors      persons     lug_boot  \\\n",
      "count  1728.000000  1728.000000  1728.000000  1728.000000  1728.000000   \n",
      "mean      2.500000     2.500000     2.500000     2.000000     2.000000   \n",
      "std       1.118358     1.118358     1.118358     0.816733     0.816733   \n",
      "min       1.000000     1.000000     1.000000     1.000000     1.000000   \n",
      "25%       1.750000     1.750000     1.750000     1.000000     1.000000   \n",
      "50%       2.500000     2.500000     2.500000     2.000000     2.000000   \n",
      "75%       3.250000     3.250000     3.250000     3.000000     3.000000   \n",
      "max       4.000000     4.000000     4.000000     3.000000     3.000000   \n",
      "\n",
      "            safety  class values  \n",
      "count  1728.000000   1728.000000  \n",
      "mean      2.000000      1.414931  \n",
      "std       0.816733      0.740700  \n",
      "min       1.000000      1.000000  \n",
      "25%       1.000000      1.000000  \n",
      "50%       2.000000      1.000000  \n",
      "75%       3.000000      2.000000  \n",
      "max       3.000000      4.000000  \n"
     ]
    },
    {
     "data": {
      "image/png": "[encoded data removed]",
      "text/plain": [
       "<Figure size 432x288 with 9 Axes>"
      ]
     },
     "metadata": {
      "needs_background": "light"
     },
     "output_type": "display_data"
    }
   ],
   "source": [
    "print(\"Dataset description\\n \", dataset_car.describe())\n",
    "\n",
    "dataset_car.hist()\n",
    "plt.show()"
   ]
  },
  {
   "cell_type": "markdown",
   "metadata": {},
   "source": [
    "## Data set detailed description (Wine)"
   ]
  },
  {
   "cell_type": "code",
   "execution_count": 29,
   "metadata": {},
   "outputs": [
    {
     "name": "stdout",
     "output_type": "stream",
     "text": [
      "Dataset description\n",
      "         fixed acidity  volatile acidity  citric acid  residual sugar  \\\n",
      "count    4898.000000       4898.000000  4898.000000     4898.000000   \n",
      "mean        6.854788          0.278241     0.334192        6.391415   \n",
      "std         0.843868          0.100795     0.121020        5.072058   \n",
      "min         3.800000          0.080000     0.000000        0.600000   \n",
      "25%         6.300000          0.210000     0.270000        1.700000   \n",
      "50%         6.800000          0.260000     0.320000        5.200000   \n",
      "75%         7.300000          0.320000     0.390000        9.900000   \n",
      "max        14.200000          1.100000     1.660000       65.800000   \n",
      "\n",
      "         chlorides  free sulfur dioxide  total sulfur dioxide      density  \\\n",
      "count  4898.000000          4898.000000           4898.000000  4898.000000   \n",
      "mean      0.045772            35.308085            138.360657     0.994027   \n",
      "std       0.021848            17.007137             42.498065     0.002991   \n",
      "min       0.009000             2.000000              9.000000     0.987110   \n",
      "25%       0.036000            23.000000            108.000000     0.991723   \n",
      "50%       0.043000            34.000000            134.000000     0.993740   \n",
      "75%       0.050000            46.000000            167.000000     0.996100   \n",
      "max       0.346000           289.000000            440.000000     1.038980   \n",
      "\n",
      "                pH    sulphates      alcohol      quality  \n",
      "count  4898.000000  4898.000000  4898.000000  4898.000000  \n",
      "mean      3.188267     0.489847    10.514267     5.877909  \n",
      "std       0.151001     0.114126     1.230621     0.885639  \n",
      "min       2.720000     0.220000     8.000000     3.000000  \n",
      "25%       3.090000     0.410000     9.500000     5.000000  \n",
      "50%       3.180000     0.470000    10.400000     6.000000  \n",
      "75%       3.280000     0.550000    11.400000     6.000000  \n",
      "max       3.820000     1.080000    14.200000     9.000000  \n"
     ]
    },
    {
     "data": {
      "image/png": "[encoded data removed]",
      "text/plain": [
       "<Figure size 432x288 with 12 Axes>"
      ]
     },
     "metadata": {
      "needs_background": "light"
     },
     "output_type": "display_data"
    }
   ],
   "source": [
    "print(\"Dataset description\\n \", dataset_white.describe())\n",
    "\n",
    "dataset_white.hist()\n",
    "plt.show()"
   ]
  },
  {
   "cell_type": "markdown",
   "metadata": {},
   "source": [
    "## Ploting attributes and data"
   ]
  },
  {
   "cell_type": "code",
   "execution_count": 30,
   "metadata": {},
   "outputs": [],
   "source": [
    "def plotAttributeData(data, labels):\n",
    "\n",
    "\tlabels = labels.reshape(labels.size)\n",
    "\t\n",
    "\tplt.scatter(data[labels==1, 0],data[labels==1,1], color='red', marker='^', alpha=0.8)\n",
    "\tplt.scatter(data[labels==2, 0],data[labels==2,1], color='blue', marker='o', alpha=0.8)\n",
    "\tplt.scatter(data[labels==3, 0],data[labels==3,1], color='green', marker='*', alpha=0.8)\n",
    "\tplt.scatter(data[labels==4, 0],data[labels==4,1], color='yellow', marker='X', alpha=0.8)\n",
    "\n",
    "\tplt.grid()\n",
    "\tplt.show()"
   ]
  },
  {
   "cell_type": "code",
   "execution_count": 31,
   "metadata": {},
   "outputs": [],
   "source": [
    "labels_car = dataset_car.as_matrix(columns=[dataset_car.columns[-1]]) # Y\n",
    "attributes_car = dataset_car.as_matrix(columns=dataset_car.columns[0:6]) # X\n",
    "\n",
    "labels_white = dataset_white.as_matrix(columns=[dataset_white.columns[-1]]) # Y\n",
    "attributes_white = dataset_white.as_matrix(columns=dataset_white.columns[0:11]) # X"
   ]
  },
  {
   "cell_type": "code",
   "execution_count": 32,
   "metadata": {},
   "outputs": [
    {
     "data": {
      "image/png": "[encoded data removed]",
      "text/plain": [
       "<Figure size 432x288 with 1 Axes>"
      ]
     },
     "metadata": {
      "needs_background": "light"
     },
     "output_type": "display_data"
    },
    {
     "data": {
      "image/png": "[encoded data removed]",
      "text/plain": [
       "<Figure size 432x288 with 1 Axes>"
      ]
     },
     "metadata": {
      "needs_background": "light"
     },
     "output_type": "display_data"
    }
   ],
   "source": [
    "plotAttributeData(attributes_car, labels_car)\n",
    "plotAttributeData(attributes_white, labels_white)"
   ]
  },
  {
   "cell_type": "markdown",
   "metadata": {},
   "source": [
    "## Rank features"
   ]
  },
  {
   "cell_type": "code",
   "execution_count": 33,
   "metadata": {},
   "outputs": [],
   "source": [
    "def featureRanking(dataset, y_label, attributes, labels):\n",
    "\n",
    "    from yellowbrick.features import Rank1D\n",
    "    \n",
    "    # Instantiate the 1D visualizer with the Sharpiro ranking algorithm\n",
    "    visualizer = Rank1D(features = dataset[y_label], algorithm='shapiro')\n",
    "    visualizer.fit(attributes, labels)\t# Fit the data to the visualizer\n",
    "    visualizer.transform(attributes)\t# Transform the data\n",
    "    visualizer.poof()\t\t\t\t\t# Draw/show/poof the data"
   ]
  },
  {
   "cell_type": "markdown",
   "metadata": {},
   "source": [
    "### Categorical data set (Car)"
   ]
  },
  {
   "cell_type": "code",
   "execution_count": 34,
   "metadata": {
    "scrolled": false
   },
   "outputs": [
    {
     "name": "stdout",
     "output_type": "stream",
     "text": [
      "CAR SHAPE OLD:  (1728, 21)\n",
      "\n",
      "CAR INDICES:  [12 18 19]\n",
      "\n",
      "CAR SHAPE NEW:  (1728, 3)\n",
      "\n",
      "CAR FIT SCORES:  [  3.653e+01   8.682e+01   1.546e+01   5.043e+01   1.918e+01   5.787e+01\n",
      "   1.546e+01   5.043e+01   6.867e+00   2.432e-01   1.637e+00   1.637e+00\n",
      "   2.466e+02   6.952e+01   5.524e+01   2.065e+01   1.258e+00   3.137e+01\n",
      "   1.735e+02   2.466e+02   5.924e+01]\n",
      "\n",
      "CAR Features:  [[1 0 1]\n",
      " [1 0 0]\n",
      " [1 1 0]\n",
      " [1 0 1]]\n",
      "\n",
      "CAR UNIVARIATE SELECTION:  (array([  3.653e+01,   8.682e+01,   1.546e+01,   5.043e+01,   1.918e+01,\n",
      "         5.787e+01,   1.546e+01,   5.043e+01,   6.867e+00,   2.432e-01,\n",
      "         1.637e+00,   1.637e+00,   2.466e+02,   6.952e+01,   5.524e+01,\n",
      "         2.065e+01,   1.258e+00,   3.137e+01,   1.735e+02,   2.466e+02,\n",
      "         5.924e+01]), array([  5.790e-08,   1.054e-18,   1.462e-03,   6.471e-11,   2.508e-04,\n",
      "         1.677e-12,   1.462e-03,   6.471e-11,   7.627e-02,   9.703e-01,\n",
      "         6.509e-01,   6.509e-01,   3.584e-53,   5.418e-15,   6.117e-12,\n",
      "         1.244e-04,   7.392e-01,   7.095e-07,   2.242e-37,   3.584e-53,\n",
      "         8.523e-13]))\n"
     ]
    },
    {
     "data": {
      "image/png": "[encoded data removed]",
      "text/plain": [
       "<Figure size 432x288 with 1 Axes>"
      ]
     },
     "metadata": {
      "needs_background": "light"
     },
     "output_type": "display_data"
    }
   ],
   "source": [
    "# https://machinelearningmastery.com/feature-selection-machine-learning-python/\n",
    "from sklearn.feature_selection import SelectKBest, chi2\n",
    "import numpy\n",
    "\n",
    "# UNIVARIATE SELECTION -> Statistical tests can be used to select those features that have the strongest relationship with the output variable.\n",
    "\n",
    "print(\"CAR SHAPE OLD: \", X_car.shape)\n",
    "\n",
    "# feature extraction\n",
    "test_car = SelectKBest(score_func = chi2, k = 3) # selects features using chi square and selects 3 of the best features\n",
    "fit_car = test_car.fit(X_car, Y_car) # Run score function on (X, Y) and get the appropriate features.\n",
    "indices_car = fit_car.get_support(indices='false') # Get a mask, or integer index, of the features selected\n",
    "print(\"\\nCAR INDICES: \", indices_car)\n",
    "\n",
    "# new dataset\n",
    "X_car_new = SelectKBest(chi2, k=3).fit_transform(X_car, Y_car)\n",
    "print(\"\\nCAR SHAPE NEW: \", X_car_new.shape)\n",
    "\n",
    "# summarize scores \n",
    "numpy.set_printoptions(precision = 3) # sets precision to 3 numbers\n",
    "print(\"\\nCAR FIT SCORES: \", fit_car.scores_)\n",
    "\n",
    "# Apply the transformation to the dataset\n",
    "features_car = fit_car.transform(X_car)\n",
    "\n",
    "# Summarize selected features\n",
    "print(\"\\nCAR Features: \", features_car[0:4,:])\n",
    "\n",
    "uni_selection_car = chi2(X_car, Y_car) # MAYBE NOT NEEDED\n",
    "print(\"\\nCAR UNIVARIATE SELECTION: \", uni_selection_car) # MAYBE NOT NEEDED\n",
    "\n",
    "featureRanking(dataset_car, 'class values', attributes_car, labels_car)"
   ]
  },
  {
   "cell_type": "markdown",
   "metadata": {},
   "source": [
    "### Numerical data set (White wine)"
   ]
  },
  {
   "cell_type": "code",
   "execution_count": 35,
   "metadata": {},
   "outputs": [
    {
     "data": {
      "text/plain": [
       "0    6\n",
       "1    6\n",
       "2    6\n",
       "3    6\n",
       "4    6\n",
       "Name: quality, dtype: int64"
      ]
     },
     "execution_count": 35,
     "metadata": {},
     "output_type": "execute_result"
    }
   ],
   "source": [
    "Y_white = dataset_white['quality']\n",
    "Y_white.head() # shows only the firts 5 instances on the data set"
   ]
  },
  {
   "cell_type": "code",
   "execution_count": 36,
   "metadata": {},
   "outputs": [
    {
     "data": {
      "text/html": [
       "<div>\n",
       "<style scoped>\n",
       "    .dataframe tbody tr th:only-of-type {\n",
       "        vertical-align: middle;\n",
       "    }\n",
       "\n",
       "    .dataframe tbody tr th {\n",
       "        vertical-align: top;\n",
       "    }\n",
       "\n",
       "    .dataframe thead th {\n",
       "        text-align: right;\n",
       "    }\n",
       "</style>\n",
       "<table border=\"1\" class=\"dataframe\">\n",
       "  <thead>\n",
       "    <tr style=\"text-align: right;\">\n",
       "      <th></th>\n",
       "      <th>fixed acidity</th>\n",
       "      <th>volatile acidity</th>\n",
       "      <th>citric acid</th>\n",
       "      <th>residual sugar</th>\n",
       "      <th>chlorides</th>\n",
       "      <th>free sulfur dioxide</th>\n",
       "      <th>total sulfur dioxide</th>\n",
       "      <th>density</th>\n",
       "      <th>pH</th>\n",
       "      <th>sulphates</th>\n",
       "      <th>alcohol</th>\n",
       "    </tr>\n",
       "  </thead>\n",
       "  <tbody>\n",
       "    <tr>\n",
       "      <th>0</th>\n",
       "      <td>7.0</td>\n",
       "      <td>0.27</td>\n",
       "      <td>0.36</td>\n",
       "      <td>20.7</td>\n",
       "      <td>0.045</td>\n",
       "      <td>45.0</td>\n",
       "      <td>170.0</td>\n",
       "      <td>1.0010</td>\n",
       "      <td>3.00</td>\n",
       "      <td>0.45</td>\n",
       "      <td>8.8</td>\n",
       "    </tr>\n",
       "    <tr>\n",
       "      <th>1</th>\n",
       "      <td>6.3</td>\n",
       "      <td>0.30</td>\n",
       "      <td>0.34</td>\n",
       "      <td>1.6</td>\n",
       "      <td>0.049</td>\n",
       "      <td>14.0</td>\n",
       "      <td>132.0</td>\n",
       "      <td>0.9940</td>\n",
       "      <td>3.30</td>\n",
       "      <td>0.49</td>\n",
       "      <td>9.5</td>\n",
       "    </tr>\n",
       "    <tr>\n",
       "      <th>2</th>\n",
       "      <td>8.1</td>\n",
       "      <td>0.28</td>\n",
       "      <td>0.40</td>\n",
       "      <td>6.9</td>\n",
       "      <td>0.050</td>\n",
       "      <td>30.0</td>\n",
       "      <td>97.0</td>\n",
       "      <td>0.9951</td>\n",
       "      <td>3.26</td>\n",
       "      <td>0.44</td>\n",
       "      <td>10.1</td>\n",
       "    </tr>\n",
       "    <tr>\n",
       "      <th>3</th>\n",
       "      <td>7.2</td>\n",
       "      <td>0.23</td>\n",
       "      <td>0.32</td>\n",
       "      <td>8.5</td>\n",
       "      <td>0.058</td>\n",
       "      <td>47.0</td>\n",
       "      <td>186.0</td>\n",
       "      <td>0.9956</td>\n",
       "      <td>3.19</td>\n",
       "      <td>0.40</td>\n",
       "      <td>9.9</td>\n",
       "    </tr>\n",
       "    <tr>\n",
       "      <th>4</th>\n",
       "      <td>7.2</td>\n",
       "      <td>0.23</td>\n",
       "      <td>0.32</td>\n",
       "      <td>8.5</td>\n",
       "      <td>0.058</td>\n",
       "      <td>47.0</td>\n",
       "      <td>186.0</td>\n",
       "      <td>0.9956</td>\n",
       "      <td>3.19</td>\n",
       "      <td>0.40</td>\n",
       "      <td>9.9</td>\n",
       "    </tr>\n",
       "  </tbody>\n",
       "</table>\n",
       "</div>"
      ],
      "text/plain": [
       "   fixed acidity  volatile acidity  citric acid  residual sugar  chlorides  \\\n",
       "0            7.0              0.27         0.36            20.7      0.045   \n",
       "1            6.3              0.30         0.34             1.6      0.049   \n",
       "2            8.1              0.28         0.40             6.9      0.050   \n",
       "3            7.2              0.23         0.32             8.5      0.058   \n",
       "4            7.2              0.23         0.32             8.5      0.058   \n",
       "\n",
       "   free sulfur dioxide  total sulfur dioxide  density    pH  sulphates  \\\n",
       "0                 45.0                 170.0   1.0010  3.00       0.45   \n",
       "1                 14.0                 132.0   0.9940  3.30       0.49   \n",
       "2                 30.0                  97.0   0.9951  3.26       0.44   \n",
       "3                 47.0                 186.0   0.9956  3.19       0.40   \n",
       "4                 47.0                 186.0   0.9956  3.19       0.40   \n",
       "\n",
       "   alcohol  \n",
       "0      8.8  \n",
       "1      9.5  \n",
       "2     10.1  \n",
       "3      9.9  \n",
       "4      9.9  "
      ]
     },
     "execution_count": 36,
     "metadata": {},
     "output_type": "execute_result"
    }
   ],
   "source": [
    "X_white = dataset_white.drop('quality', 1)\n",
    "X_white.head() # shows only the first 5 instances on the data set"
   ]
  },
  {
   "cell_type": "code",
   "execution_count": 37,
   "metadata": {},
   "outputs": [
    {
     "name": "stdout",
     "output_type": "stream",
     "text": [
      "WHITE SHAPE OLD:  (4898, 11)\n",
      "\n",
      "WHITE WINE INDICES:  [ 0  1  3  5  6 10]\n",
      "\n",
      "WHITE SHAPE NEW:  (4898, 6)\n",
      "\n",
      "WHITE FIT SCORES:  [  7.922e+00   1.262e+01   8.511e-01   5.012e+02   2.529e+00   9.477e+02\n",
      "   3.358e+03   5.065e-03   4.287e-01   5.792e-01   1.551e+02]\n",
      "\n",
      "Features WHITE:  [[   7.      0.27   20.7    45.    170.      8.8 ]\n",
      " [   6.3     0.3     1.6    14.    132.      9.5 ]\n",
      " [   8.1     0.28    6.9    30.     97.     10.1 ]\n",
      " [   7.2     0.23    8.5    47.    186.      9.9 ]]\n",
      "\n",
      "WHITE UNIVARIATE SELECTION:  (array([  7.922e+00,   1.262e+01,   8.511e-01,   5.012e+02,   2.529e+00,\n",
      "         9.477e+02,   3.358e+03,   5.065e-03,   4.287e-01,   5.792e-01,\n",
      "         1.551e+02]), array([  2.439e-001,   4.944e-002,   9.906e-001,   4.556e-105,\n",
      "         8.652e-001,   1.815e-201,   0.000e+000,   1.000e+000,\n",
      "         9.986e-001,   9.967e-001,   6.522e-031]))\n"
     ]
    },
    {
     "data": {
      "image/png": "[encoded data removed]",
      "text/plain": [
       "<Figure size 432x288 with 1 Axes>"
      ]
     },
     "metadata": {
      "needs_background": "light"
     },
     "output_type": "display_data"
    }
   ],
   "source": [
    "print(\"WHITE SHAPE OLD: \", X_white.shape)\n",
    "\n",
    "# feature extraction\n",
    "test_white = SelectKBest(score_func = chi2, k = 6) # selects features using chi square and selects 6 of the best features\n",
    "fit_white = test_white.fit(X_white, Y_white) # Run score function on (X, Y) and get the appropriate features.\n",
    "indices_white = fit_white.get_support(indices='false') # Get a mask, or integer index, of the features selected\n",
    "print(\"\\nWHITE WINE INDICES: \", indices_white)\n",
    "\n",
    "# new dataset\n",
    "X_white_new = SelectKBest(chi2, k=6).fit_transform(X_white, Y_white)\n",
    "print(\"\\nWHITE SHAPE NEW: \", X_white_new.shape)\n",
    "\n",
    "# summarize scores \n",
    "numpy.set_printoptions(precision = 3) # sets precision to 3 numbers\n",
    "print(\"\\nWHITE FIT SCORES: \", fit_white.scores_)\n",
    "\n",
    "# Apply the transformation to the dataset\n",
    "features_white = fit_white.transform(X_white)\n",
    "\n",
    "# Summarize selected features\n",
    "print(\"\\nFeatures WHITE: \", features_white[0:4,:])\n",
    "\n",
    "uni_selection_white = chi2(X_white, Y_white) # MAYBE NOT NEEDED\n",
    "print(\"\\nWHITE UNIVARIATE SELECTION: \", uni_selection_white) # MAYBE NOT NEEDED\n",
    "\n",
    "featureRanking(dataset_white, 'quality', attributes_white, labels_white)"
   ]
  },
  {
   "cell_type": "markdown",
   "metadata": {},
   "source": [
    "### Principal Component Analysis"
   ]
  },
  {
   "cell_type": "markdown",
   "metadata": {},
   "source": [
    "#### Prepare the data for a classification task"
   ]
  },
  {
   "cell_type": "code",
   "execution_count": 38,
   "metadata": {},
   "outputs": [],
   "source": [
    "from sklearn.model_selection import train_test_split\n",
    "\n",
    "# Splitting the dataset into the Training set and Test set for both data sets\n",
    "#X_car_train, X_car_test, Y_car_train, Y_car_test = train_test_split(X_car, Y_car, test_size=0.3, random_state=0)\n",
    "#X_white_train, X_white_test, Y_white_train, Y_white_test = train_test_split(X_white, Y_white, test_size=0.3, random_state=0)\n",
    "\n",
    "X_car_train, X_car_test, Y_car_train, Y_car_test = train_test_split(attributes_car, labels_car, test_size=0.3, random_state=0)\n",
    "X_white_train, X_white_test, Y_white_train, Y_white_test = train_test_split(attributes_white, labels_white, test_size=0.3, random_state=0)\n"
   ]
  },
  {
   "cell_type": "markdown",
   "metadata": {},
   "source": [
    "#### Normalize Features"
   ]
  },
  {
   "cell_type": "code",
   "execution_count": 39,
   "metadata": {},
   "outputs": [],
   "source": [
    "from sklearn.preprocessing import StandardScaler\n",
    "\n",
    "sc = StandardScaler()  \n",
    "X_car_train_std = sc.fit_transform(X_car_train)  \n",
    "X_car_test_std = sc.transform(X_car_test) \n",
    " \n",
    "X_white_train_std = sc.fit_transform(X_white_train)  \n",
    "X_white_test_std = sc.transform(X_white_test)"
   ]
  },
  {
   "cell_type": "markdown",
   "metadata": {},
   "source": [
    "#### Perform PCA (Car)"
   ]
  },
  {
   "cell_type": "code",
   "execution_count": 40,
   "metadata": {},
   "outputs": [
    {
     "data": {
      "text/plain": [
       "array([ 0.178,  0.17 ,  0.17 ,  0.164,  0.16 ,  0.158])"
      ]
     },
     "execution_count": 40,
     "metadata": {},
     "output_type": "execute_result"
    }
   ],
   "source": [
    "from sklearn.decomposition import PCA\n",
    " \n",
    "pca_car = PCA()  # Initialize the PCA class by passing the number of components to the constructor.\n",
    "X_car_train_pca = pca_car.fit_transform(X_car_train_std)  \n",
    "pca_car.explained_variance_ratio_ # variance caused by each of the principal components."
   ]
  },
  {
   "cell_type": "markdown",
   "metadata": {},
   "source": [
    "#### Perform PCA (White wine)"
   ]
  },
  {
   "cell_type": "code",
   "execution_count": 41,
   "metadata": {
    "scrolled": true
   },
   "outputs": [
    {
     "data": {
      "text/plain": [
       "array([ 0.297,  0.142,  0.112,  0.095,  0.087,  0.084,  0.066,  0.054,\n",
       "        0.037,  0.026,  0.001])"
      ]
     },
     "execution_count": 41,
     "metadata": {},
     "output_type": "execute_result"
    }
   ],
   "source": [
    "pca_white = PCA()  # Initialize the PCA class by passing the number of components to the constructor. # empty all features\n",
    "X_white_train_pca = pca_white.fit_transform(X_white_train_std)  \n",
    "pca_white.explained_variance_ratio_ # variance caused by each of the principal components."
   ]
  },
  {
   "cell_type": "code",
   "execution_count": 42,
   "metadata": {},
   "outputs": [
    {
     "data": {
      "image/png": "[encoded data removed]",
      "text/plain": [
       "<Figure size 432x288 with 1 Axes>"
      ]
     },
     "metadata": {
      "needs_background": "light"
     },
     "output_type": "display_data"
    },
    {
     "data": {
      "image/png": "[encoded data removed]",
      "text/plain": [
       "<Figure size 432x288 with 1 Axes>"
      ]
     },
     "metadata": {
      "needs_background": "light"
     },
     "output_type": "display_data"
    }
   ],
   "source": [
    "%matplotlib inline \n",
    "import matplotlib.pyplot as plt\n",
    "\n",
    "#print(X_car_train_pca.shape)\n",
    "\n",
    "# Here we can see that increasing the features more or less between 14/15 it tens to get more accuracy nearly to 100%\n",
    "plt.bar(range(6), pca_car.explained_variance_ratio_, alpha=0.5, align='center')#, pca.explained_variance_ratio_, alpha=0.5, align='center')\n",
    "plt.step(range(6), numpy.cumsum(pca_car.explained_variance_ratio_), where='mid')\n",
    "plt.ylabel('CAR: Explained variance ratio')\n",
    "plt.xlabel('CAR: Principal components')\n",
    "plt.show()\n",
    "\n",
    "#print(X_white_train_pca.shape)\n",
    "\n",
    "plt.bar(range(11), pca_white.explained_variance_ratio_, alpha=0.5, align='center')#, pca.explained_variance_ratio_, alpha=0.5, align='center')\n",
    "plt.step(range(11), numpy.cumsum(pca_white.explained_variance_ratio_), where='mid')\n",
    "plt.ylabel('WHITE: Explained variance ratio')\n",
    "plt.xlabel('WHITE: Principal components')\n",
    "plt.show()"
   ]
  },
  {
   "cell_type": "markdown",
   "metadata": {},
   "source": [
    "#### Dimension Reduction before classification"
   ]
  },
  {
   "cell_type": "code",
   "execution_count": 43,
   "metadata": {},
   "outputs": [
    {
     "name": "stdout",
     "output_type": "stream",
     "text": [
      "CAR:  PCA(copy=True, iterated_power='auto', n_components=2, random_state=None,\n",
      "  svd_solver='auto', tol=0.0, whiten=False)\n",
      "\n",
      "WHITE:  PCA(copy=True, iterated_power='auto', n_components=7, random_state=None,\n",
      "  svd_solver='auto', tol=0.0, whiten=False)\n"
     ]
    }
   ],
   "source": [
    "pca_car = PCA(n_components = 2) # for getting more or less of 94% of variance ratio = 13\n",
    "X_car_train_pca = pca_car.fit_transform(X_car_train_std)\n",
    "X_car_test_pca = pca_car.transform(X_car_test_std) # returns the specified number of principal components.\n",
    "print(\"CAR: \", pca_car)\n",
    "\n",
    "pca_white = PCA(n_components = 7) # for getting more or less of 93% of variance ratio = 7\n",
    "X_white_train_pca = pca_white.fit_transform(X_white_train_std)\n",
    "X_white_test_pca = pca_white.transform(X_white_test_std) # returns the specified number of principal components. \n",
    "print(\"\\nWHITE: \", pca_white)"
   ]
  },
  {
   "cell_type": "code",
   "execution_count": 44,
   "metadata": {},
   "outputs": [
    {
     "data": {
      "image/png": "[encoded data removed]",
      "text/plain": [
       "<Figure size 720x360 with 2 Axes>"
      ]
     },
     "metadata": {
      "needs_background": "light"
     },
     "output_type": "display_data"
    }
   ],
   "source": [
    "# Car\n",
    "plt.rcParams.update({'font.size': 10})\n",
    "fig, axes = plt.subplots(nrows=1, ncols=2, figsize=(10,5))\n",
    "axes = axes.ravel()   \n",
    "ax = axes[0]\n",
    "ax.figure\n",
    "inx=(Y_car_train == 1)\n",
    "inx=inx.ravel()\n",
    "ax.scatter(X_car_train_pca[inx,0], X_car_train_pca[inx,1],marker='s',color='r',label='M') \n",
    "inx=(Y_car_train == 0)\n",
    "inx=inx.ravel()\n",
    "ax.scatter(X_car_train_pca[inx,0],X_car_train_pca[inx,1],marker='o',color='g',label='B')    \n",
    "ax.set_title(\"CAR: Training set\")\n",
    "ax.set_xlabel('PC 1')\n",
    "ax.set_ylabel('PC 2')\n",
    "ax.legend()\n",
    "ax.grid()\n",
    "\n",
    "ax = axes[1]\n",
    "ax.figure\n",
    "inx=(Y_car_test == 1)\n",
    "inx=inx.ravel()\n",
    "ax.scatter(X_car_test_pca[inx,0],X_car_test_pca[inx,1],marker='s',color='r',label='M')  \n",
    "inx=(Y_car_test == 0)\n",
    "inx=inx.ravel()\n",
    "ax.scatter(X_car_test_pca[inx,0],X_car_test_pca[inx,1],marker='o',color='g',label='B')\n",
    "    \n",
    "ax.set_title(\"CAR: Test set: data not used to adapt PCA\")    \n",
    "\n",
    "ax.legend() \n",
    "ax.grid()\n",
    "plt.xlabel('PC 1')\n",
    "plt.ylabel('PC 2')\n",
    "plt.show()"
   ]
  },
  {
   "cell_type": "code",
   "execution_count": 45,
   "metadata": {
    "scrolled": true
   },
   "outputs": [
    {
     "data": {
      "image/png": "[encoded data removed]",
      "text/plain": [
       "<Figure size 720x360 with 2 Axes>"
      ]
     },
     "metadata": {
      "needs_background": "light"
     },
     "output_type": "display_data"
    }
   ],
   "source": [
    "# WHITE WINE\n",
    "plt.rcParams.update({'font.size': 10})\n",
    "fig, axes = plt.subplots(nrows=1, ncols=2, figsize=(10,5))\n",
    "axes = axes.ravel()   \n",
    "ax = axes[0]\n",
    "ax.figure\n",
    "inx=(Y_white_train >= 1)\n",
    "inx=inx.ravel()\n",
    "ax.scatter(X_white_train_pca[inx,0], X_white_train_pca[inx,1],marker='s',color='r',label='M') \n",
    "inx=(Y_white_train <= 10)\n",
    "inx=inx.ravel()\n",
    "ax.scatter(X_white_train_pca[inx,0],X_white_train_pca[inx,1],marker='o',color='g',label='B')    \n",
    "ax.set_title(\"WHITE: Training set\")\n",
    "ax.set_xlabel('PC 1')\n",
    "ax.set_ylabel('PC 2')\n",
    "ax.legend()\n",
    "ax.grid()\n",
    "\n",
    "ax = axes[1]\n",
    "ax.figure\n",
    "inx=(Y_white_test >= 1)\n",
    "inx=inx.ravel()\n",
    "ax.scatter(X_white_test_pca[inx,0],X_white_test_pca[inx,1],marker='s',color='r',label='M')  \n",
    "inx=(Y_white_test <= 10)\n",
    "inx=inx.ravel()\n",
    "ax.scatter(X_white_test_pca[inx,0],X_white_test_pca[inx,1],marker='o',color='g',label='B')\n",
    "    \n",
    "ax.set_title(\"WHITE: Test set: data not used to adapt PCA\")    \n",
    "\n",
    "ax.legend() \n",
    "ax.grid()\n",
    "plt.xlabel('PC 1')\n",
    "plt.ylabel('PC 2')\n",
    "plt.show()"
   ]
  },
  {
   "cell_type": "markdown",
   "metadata": {},
   "source": [
    "### Kernel Principal Components"
   ]
  },
  {
   "cell_type": "code",
   "execution_count": 46,
   "metadata": {},
   "outputs": [],
   "source": [
    "def applyKPCA(num_comp, kernel_type, X_train):\n",
    "\n",
    "    from sklearn.decomposition import KernelPCA\n",
    "\n",
    "    kpca = KernelPCA(n_components=num_comp, kernel= kernel_type, gamma=15)\n",
    "    X_skpca = kpca.fit_transform(X_train)\n",
    "    print(\"SHAPE: {}\\tKERNEL: {}\".format(X_skpca.shape, kernel_type))"
   ]
  },
  {
   "cell_type": "code",
   "execution_count": 47,
   "metadata": {},
   "outputs": [
    {
     "name": "stdout",
     "output_type": "stream",
     "text": [
      "SHAPE: (1209, 2)\tKERNEL: rbf\n",
      "SHAPE: (1209, 2)\tKERNEL: linear\n",
      "SHAPE: (3428, 2)\tKERNEL: rbf\n",
      "SHAPE: (3428, 2)\tKERNEL: linear\n"
     ]
    }
   ],
   "source": [
    "applyKPCA(2, 'rbf', X_car_train_std)\n",
    "applyKPCA(2, 'linear', X_car_train_std)\n",
    "\n",
    "applyKPCA(2, 'rbf', X_white_train_std)\n",
    "applyKPCA(2, 'linear', X_white_train_std)"
   ]
  },
  {
   "cell_type": "markdown",
   "metadata": {},
   "source": [
    "# Task B: Predictive Model\n",
    "\n",
    "- [Car: Without Data Set Standardization](#Car:-Without-Data-Set-Standardization)\n",
    "- [Car: With Data Set Standardization)](#Car:-With-Data-Set-Standardization)\n",
    "- [White: Without Data Set Standardization](#White:-Without-Data-Set-Standardization)\n",
    "- [White: With Data Set Standardization)](#White:-With-Data-Set-Standardization)"
   ]
  },
  {
   "cell_type": "code",
   "execution_count": 48,
   "metadata": {},
   "outputs": [],
   "source": [
    "from sklearn.neighbors import KNeighborsClassifier\n",
    "from sklearn.metrics import accuracy_score\n",
    "\n",
    "from sklearn import svm\n",
    "from sklearn.svm import SVC\n",
    "\n",
    "from sklearn.neural_network import MLPClassifier\n",
    "\n",
    "from sklearn.preprocessing import StandardScaler\n",
    "\n",
    "from sklearn.ensemble import RandomForestClassifier"
   ]
  },
  {
   "cell_type": "code",
   "execution_count": 49,
   "metadata": {},
   "outputs": [],
   "source": [
    "def applyKNN(X_train, Y_train, X_test, Y_test):\n",
    "\t# create classifier model\n",
    "\tknn = KNeighborsClassifier()\n",
    "\n",
    "\tknn.fit(X_train, Y_train)\n",
    "\tKNeighborsClassifier(algorithm='auto', leaf_size=30, metric='minkowski', metric_params=None, n_jobs=1, n_neighbors=5, p=2, weights='uniform')\n",
    "\n",
    "\tpredictions = knn.predict(X_test)\n",
    "\n",
    "\tscore = accuracy_score(Y_test, predictions)\n",
    "\tprint(\"KNN Accuracy: {:.2%}\".format(score))"
   ]
  },
  {
   "cell_type": "code",
   "execution_count": 50,
   "metadata": {},
   "outputs": [],
   "source": [
    "def applySVM(X_train, Y_train, X_test, Y_test, kernel_type):\n",
    "\n",
    "\tsvc = svm.SVC(kernel=kernel_type, C=1.0)\n",
    "\tsvc.fit(X_train, Y_train)\n",
    "\tpredictions = svc.predict(X_test)\n",
    "\tscore = accuracy_score(Y_test, predictions)\n",
    "\tprint('SVM Accuracy {}: {:.2%}'.format(kernel_type,score))"
   ]
  },
  {
   "cell_type": "code",
   "execution_count": 51,
   "metadata": {},
   "outputs": [],
   "source": [
    "def applyMLP(X_train, Y_train, X_test, Y_test):\n",
    "\n",
    "\tmlp = MLPClassifier(activation='tanh', hidden_layer_sizes=(10,5),alpha=0.01, max_iter=5000)\n",
    "\tmlp.fit(X_train, Y_train)\n",
    "\tpredictions = mlp.predict(X_test)\n",
    "\tscore = accuracy_score(Y_test, predictions)\n",
    "\tprint('MLP Accuracy: {:.2%}'.format(score))\t"
   ]
  },
  {
   "cell_type": "code",
   "execution_count": 52,
   "metadata": {},
   "outputs": [],
   "source": [
    "def applyRandomForest(X_train, Y_train, X_test, Y_test):\n",
    "\n",
    "\tforest = RandomForestClassifier(max_depth=3, min_samples_split=5,n_estimators=10, max_features='log2', oob_score=False)\t\n",
    "\t\n",
    "\tforest.fit(X_train,Y_train)\n",
    "\t'''\n",
    "\tplot_decision_regions(X_train, Y_train, classifier=forest)\n",
    "\tplt.xlabel('x1')\n",
    "\tplt.ylabel('x2')\n",
    "\tplt.legend(loc='upper left')\n",
    "\tplt.grid()\n",
    "\tplt.tight_layout()\n",
    "\tplt.show()\n",
    "\t'''\n",
    "\tscore = forest.score(X_test,Y_test)\n",
    "\tprint('Random Forest Accuracy: {:.2%}'.format(score))\t\n",
    "\t#print('out-of-bag \\n', forest.oob_score_)\n",
    "\tprint('Feature importance: \\n',forest.feature_importances_)"
   ]
  },
  {
   "cell_type": "code",
   "execution_count": 53,
   "metadata": {},
   "outputs": [],
   "source": [
    "def applyDecisionTree(X_train, Y_train, X_test, Y_test):\n",
    "\n",
    "\tfrom sklearn import tree\n",
    "\n",
    "\ttree = tree.DecisionTreeClassifier(criterion='gini')\n",
    "\ttree.fit(X_train,Y_train)\n",
    "\tscore = tree.score(X_test,Y_test)\n",
    "\n",
    "\tprint('Decision Tree Accuracy: {:.2%}'.format(score))"
   ]
  },
  {
   "cell_type": "markdown",
   "metadata": {},
   "source": [
    "## Car: Without Data Set Standardization"
   ]
  },
  {
   "cell_type": "code",
   "execution_count": 54,
   "metadata": {},
   "outputs": [
    {
     "name": "stdout",
     "output_type": "stream",
     "text": [
      "KNN Accuracy: 93.83%\n",
      "SVM Accuracy linear: 83.82%\n",
      "SVM Accuracy poly: 93.06%\n",
      "SVM Accuracy rbf: 95.57%\n",
      "SVM Accuracy sigmoid: 62.24%\n",
      "MLP Accuracy: 88.82%\n",
      "Decision Tree Accuracy: 97.69%\n",
      "Random Forest Accuracy: 79.58%\n",
      "Feature importance: \n",
      " [ 0.106  0.046  0.002  0.36   0.07   0.416]\n"
     ]
    }
   ],
   "source": [
    "applyKNN(X_car_train, Y_car_train, X_car_test, Y_car_test)\n",
    "applySVM(X_car_train, Y_car_train, X_car_test, Y_car_test, 'linear')\n",
    "applySVM(X_car_train, Y_car_train, X_car_test, Y_car_test, 'poly')\n",
    "applySVM(X_car_train, Y_car_train, X_car_test, Y_car_test, 'rbf')\n",
    "applySVM(X_car_train, Y_car_train, X_car_test, Y_car_test, 'sigmoid')\n",
    "applyMLP(X_car_train, Y_car_train, X_car_test, Y_car_test)\n",
    "applyDecisionTree(X_car_train, Y_car_train, X_car_test, Y_car_test)\n",
    "applyRandomForest(X_car_train, Y_car_train, X_car_test, Y_car_test)"
   ]
  },
  {
   "cell_type": "markdown",
   "metadata": {},
   "source": [
    "## Car: With Data Set Standardization"
   ]
  },
  {
   "cell_type": "code",
   "execution_count": 55,
   "metadata": {},
   "outputs": [
    {
     "name": "stdout",
     "output_type": "stream",
     "text": [
      "KNN Accuracy: 94.22%\n",
      "SVM Accuracy linear: 83.62%\n",
      "SVM Accuracy poly: 85.36%\n",
      "SVM Accuracy rbf: 96.34%\n",
      "SVM Accuracy sigmoid: 72.06%\n",
      "MLP Accuracy: 97.69%\n",
      "Decision Tree Accuracy: 97.30%\n",
      "Random Forest Accuracy: 84.78%\n",
      "Feature importance: \n",
      " [ 0.055  0.056  0.008  0.446  0.019  0.416]\n"
     ]
    }
   ],
   "source": [
    "applyKNN(X_car_train_std, Y_car_train, X_car_test_std, Y_car_test)\n",
    "applySVM(X_car_train_std, Y_car_train, X_car_test_std, Y_car_test, 'linear')\n",
    "applySVM(X_car_train_std, Y_car_train, X_car_test_std, Y_car_test, 'poly')\n",
    "applySVM(X_car_train_std, Y_car_train, X_car_test_std, Y_car_test, 'rbf')\n",
    "applySVM(X_car_train_std, Y_car_train, X_car_test_std, Y_car_test, 'sigmoid')\n",
    "applyMLP(X_car_train_std, Y_car_train, X_car_test_std, Y_car_test)\n",
    "applyDecisionTree(X_car_train_std, Y_car_train, X_car_test_std, Y_car_test)\n",
    "applyRandomForest(X_car_train_std, Y_car_train, X_car_test_std, Y_car_test)"
   ]
  },
  {
   "cell_type": "markdown",
   "metadata": {},
   "source": [
    "## White: Without Data Set Standardization"
   ]
  },
  {
   "cell_type": "code",
   "execution_count": 56,
   "metadata": {},
   "outputs": [
    {
     "name": "stdout",
     "output_type": "stream",
     "text": [
      "KNN Accuracy: 46.53%\n",
      "MLP Accuracy: 50.88%\n",
      "Decision Tree Accuracy: 58.44%\n",
      "Random Forest Accuracy: 52.18%\n",
      "Feature importance: \n",
      " [ 0.005  0.202  0.033  0.033  0.111  0.053  0.008  0.177  0.011  0.003\n",
      "  0.365]\n"
     ]
    }
   ],
   "source": [
    "applyKNN(X_white_train, Y_white_train, X_white_test, Y_white_test)\n",
    "#applySVM(X_white_train, Y_white_train, X_white_test, Y_white_test, 'linear')\n",
    "#applySVM(X_white_train, Y_white_train, X_white_test, Y_white_test, 'poly')\n",
    "#applySVM(X_white_train, Y_white_train, X_white_test, Y_white_test, 'rbf')\n",
    "#applySVM(X_white_train, Y_white_train, X_white_test, Y_white_test, 'sigmoid')\n",
    "applyMLP(X_white_train, Y_white_train, X_white_test, Y_white_test)\n",
    "applyDecisionTree(X_white_train, Y_white_train, X_white_test, Y_white_test)\n",
    "applyRandomForest(X_white_train, Y_white_train, X_white_test, Y_white_test)"
   ]
  },
  {
   "cell_type": "markdown",
   "metadata": {},
   "source": [
    "## White: With Data Set Standardization"
   ]
  },
  {
   "cell_type": "code",
   "execution_count": 57,
   "metadata": {},
   "outputs": [
    {
     "name": "stdout",
     "output_type": "stream",
     "text": [
      "KNN Accuracy: 54.42%\n",
      "MLP Accuracy: 56.19%\n",
      "Decision Tree Accuracy: 57.55%\n",
      "Random Forest Accuracy: 51.63%\n",
      "Feature importance: \n",
      " [ 0.024  0.2    0.032  0.038  0.131  0.094  0.055  0.105  0.001  0.003\n",
      "  0.317]\n"
     ]
    }
   ],
   "source": [
    "applyKNN(X_white_train_std, Y_white_train, X_white_test_std, Y_white_test)\n",
    "#applySVM(X_white_train_std, Y_white_train, X_white_test_std, Y_white_test, 'linear')\n",
    "#applySVM(X_white_train_std, Y_white_train, X_white_test_std, Y_white_test, 'poly')\n",
    "#applySVM(X_white_train_std, Y_white_train, X_white_test_std, Y_white_test, 'rbf')\n",
    "#applySVM(X_white_train_std, Y_white_train, X_white_test_std, Y_white_test, 'sigmoid')\n",
    "applyMLP(X_white_train_std, Y_white_train, X_white_test_std, Y_white_test)\n",
    "applyDecisionTree(X_white_train_std, Y_white_train, X_white_test_std, Y_white_test)\n",
    "applyRandomForest(X_white_train_std, Y_white_train, X_white_test_std, Y_white_test)"
   ]
  },
  {
   "cell_type": "markdown",
   "metadata": {},
   "source": [
    "#Dataset 2: White wine quality dataset"
   ]
  }
 ],
 "metadata": {
  "kernelspec": {
   "display_name": "Python 3",
   "language": "python",
   "name": "python3"
  },
  "language_info": {
   "codemirror_mode": {
    "name": "ipython",
    "version": 3
   },
   "file_extension": ".py",
   "mimetype": "text/x-python",
   "name": "python",
   "nbconvert_exporter": "python",
   "pygments_lexer": "ipython3",
   "version": "3.6.2"
  }
 },
 "nbformat": 4,
 "nbformat_minor": 2
}
